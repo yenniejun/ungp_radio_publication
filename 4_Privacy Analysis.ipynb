{
 "cells": [
  {
   "cell_type": "markdown",
   "id": "cbd8192e",
   "metadata": {},
   "source": [
    "# Privacy"
   ]
  },
  {
   "cell_type": "markdown",
   "id": "7ac615dd",
   "metadata": {},
   "source": [
    "Because we don't have a ground-truth for NER, hard to know what is the right amount of privacy or not."
   ]
  },
  {
   "cell_type": "code",
   "execution_count": 5,
   "id": "7a083756",
   "metadata": {},
   "outputs": [],
   "source": [
    "from presidio_analyzer import AnalyzerEngine\n",
    "from presidio_anonymizer import AnonymizerEngine\n",
    "from presidio_anonymizer.entities.engine import RecognizerResult, OperatorConfig\n",
    "from collections import Counter\n",
    "from collections import defaultdict \n",
    "from nltk.tokenize import sent_tokenize, word_tokenize\n",
    "import re, json"
   ]
  },
  {
   "cell_type": "code",
   "execution_count": 6,
   "id": "e51dfdfe",
   "metadata": {},
   "outputs": [],
   "source": [
    "# pip install presidio-analyzer\n",
    "# pip install presidio-anonymizer\n",
    "# python -m spacy download en_core_web_sm"
   ]
  },
  {
   "cell_type": "code",
   "execution_count": 7,
   "id": "ce67dbe0",
   "metadata": {},
   "outputs": [],
   "source": [
    "# Initialize the engine with logger.\n",
    "anonymizer = AnonymizerEngine()\n",
    "analyzer = AnalyzerEngine()"
   ]
  },
  {
   "cell_type": "code",
   "execution_count": 8,
   "id": "049dc003",
   "metadata": {},
   "outputs": [],
   "source": [
    "# By Sasha\n",
    "\n",
    "# Need to add more to vaxlist\n",
    "\n",
    "def find_vaccines(text):\n",
    "    vaccines = Counter()\n",
    "    vaxlist=['Pfizer', 'Moderna', 'Janssen', 'Astra', 'Zeneca', 'Zenica', 'AstraZeneca', 'Astrazeneca', 'Oxford','Johnson'\n",
    "            'COVAX', 'Omicron', 'Covidex', 'Covilyce', 'Covid', 'Moderna']\n",
    "    for word in vaxlist:\n",
    "        text=re.sub(word, '*'+word+'*', text, flags=re.I)\n",
    "    return(text)\n",
    "\n",
    "\n",
    "\n",
    "def get_anonymized(doc):\n",
    "    \"\"\"\n",
    "        If we want to return the text with the PII replaced\n",
    "    \"\"\"\n",
    "    anonresult = anonymizer.anonymize(doc, analyzer.analyze(text=doc,\n",
    "                               entities=entlist,\n",
    "                               language='en'))\n",
    "    final=json.loads(anonresult.to_json())\n",
    "    return final['text']\n",
    "\n",
    "\n",
    "def get_anonymized_entities(doc):\n",
    "    \"\"\"\n",
    "        returns the PII entities being replaced\n",
    "    \"\"\"\n",
    "    if len(doc) == 0:\n",
    "        return []\n",
    "    \n",
    "    doc = find_vaccines(doc)\n",
    "    \n",
    "    anonresult = anonymizer.anonymize(doc, analyzer.analyze(text=doc,\n",
    "                               entities=entlist,\n",
    "                               language='en'))\n",
    "    final=json.loads(anonresult.to_json())\n",
    "    return [i['entity_type'] for i in final['items']]\n",
    "\n",
    "def get_detected_entites(doc):\n",
    "    \"\"\" Just run the analyzer \"\"\"\n",
    "    if len(doc) == 0:\n",
    "        return []\n",
    "    doc = find_vaccines(doc)\n",
    "    analyzer_result = analyzer.analyze(text=doc, entities=entlist, language='en')\n",
    "    \n",
    "    return [doc[i.start:i.end] for i in analyzer.analyze(text=doc, entities=entlist, language='en')]\n",
    "\n",
    "def get_detected_entity_types(doc):\n",
    "    \"\"\" Just run the analyzer \"\"\"\n",
    "    if len(doc) == 0:\n",
    "        return []\n",
    "    doc = find_vaccines(doc)\n",
    "    analyzer_result = analyzer.analyze(text=doc, entities=entlist, language='en')\n",
    "    \n",
    "    return [i.entity_type for i in analyzer.analyze(text=doc, entities=entlist, language='en')]\n"
   ]
  },
  {
   "cell_type": "code",
   "execution_count": 9,
   "id": "ce25b7da",
   "metadata": {},
   "outputs": [],
   "source": [
    "entlist=[\"PERSON\", \"PHONE_NUMBER\", \"NRP\", \"LOCATION\"]"
   ]
  },
  {
   "cell_type": "markdown",
   "id": "d7cc1625",
   "metadata": {},
   "source": [
    "### On the transcriptons"
   ]
  },
  {
   "cell_type": "code",
   "execution_count": 48,
   "id": "e1faa2a9",
   "metadata": {},
   "outputs": [],
   "source": [
    "english_clips[\"pii_human1\"] = english_clips[\"transcription_human1\"].apply(get_detected_entites)\n",
    "english_clips[\"pii_human2\"] = english_clips[\"transcription_human1\"].apply(get_detected_entites)\n",
    "english_clips[\"pii_riva\"] = english_clips[\"transcription_riva\"].apply(get_detected_entites)\n",
    "english_clips[\"pii_deepspeech\"] = english_clips[\"transcription_deepspeech\"].apply(get_detected_entites)\n",
    "english_clips[\"pii_aws\"] = english_clips[\"transcription_aws\"].apply(get_detected_entites)"
   ]
  },
  {
   "cell_type": "code",
   "execution_count": 49,
   "id": "991fe881",
   "metadata": {},
   "outputs": [],
   "source": [
    "english_clips[\"pii_types_human1\"] = english_clips[\"transcription_human1\"].apply(get_detected_entity_types)\n",
    "english_clips[\"pii_types_human2\"] = english_clips[\"transcription_human2\"].apply(get_detected_entity_types)\n",
    "english_clips[\"pii_types_riva\"] = english_clips[\"transcription_riva\"].apply(get_detected_entity_types)\n",
    "english_clips[\"pii_types_deepspeech\"] = english_clips[\"transcription_deepspeech\"].apply(get_detected_entity_types)\n",
    "english_clips[\"pii_types_aws\"] = english_clips[\"transcription_aws\"].apply(get_detected_entity_types)\n",
    "\n"
   ]
  },
  {
   "cell_type": "code",
   "execution_count": 50,
   "id": "07b24887",
   "metadata": {
    "scrolled": true
   },
   "outputs": [],
   "source": [
    "# A df of the piis found and removed in the transcriptions\n",
    "pii_df = english_clips[[\"pii_riva\", \"pii_deepspeech\", \"pii_aws\", \"pii_human1\", \"pii_human2\",\n",
    "                       \"pii_types_riva\", \"pii_types_deepspeech\", \"pii_types_aws\", \"pii_types_human1\", \"pii_types_human2\"\n",
    "                       ]]"
   ]
  },
  {
   "cell_type": "code",
   "execution_count": 51,
   "id": "60c6d7bf",
   "metadata": {},
   "outputs": [],
   "source": [
    "for c in pii_df.columns:\n",
    "    pii_df[f\"{c}_len\"] = pii_df[c].apply(len)"
   ]
  },
  {
   "cell_type": "code",
   "execution_count": 52,
   "id": "0d0ab607",
   "metadata": {},
   "outputs": [],
   "source": [
    "pii_df.to_csv('pii_df.csv', index=False)"
   ]
  },
  {
   "cell_type": "code",
   "execution_count": 53,
   "id": "f9b2a9dd",
   "metadata": {},
   "outputs": [],
   "source": [
    "# pii_df = pd.read_csv('pii_df.csv')"
   ]
  },
  {
   "cell_type": "code",
   "execution_count": null,
   "id": "3662b5ce",
   "metadata": {},
   "outputs": [],
   "source": []
  },
  {
   "cell_type": "code",
   "execution_count": 54,
   "id": "50b35c23",
   "metadata": {},
   "outputs": [],
   "source": [
    "# RIVA types counter\n",
    "riva_pii = Counter([a for sublist in pii_df[\"pii_types_riva\"] for a in sublist]).most_common()"
   ]
  },
  {
   "cell_type": "code",
   "execution_count": 55,
   "id": "45128cbc",
   "metadata": {},
   "outputs": [],
   "source": [
    "# Deepspeech counter\n",
    "ds_pii = Counter([a for sublist in pii_df[\"pii_types_deepspeech\"] for a in sublist]).most_common()"
   ]
  },
  {
   "cell_type": "code",
   "execution_count": 56,
   "id": "b161f313",
   "metadata": {},
   "outputs": [],
   "source": [
    "# AWS counter\n",
    "aws_pii = Counter([a for sublist in pii_df[\"pii_types_aws\"] for a in sublist]).most_common()"
   ]
  },
  {
   "cell_type": "code",
   "execution_count": 57,
   "id": "05c67303",
   "metadata": {},
   "outputs": [],
   "source": [
    "# Human transcription 1 counter\n",
    "human1_pii = Counter([a for sublist in pii_df[\"pii_types_human1\"] for a in sublist]).most_common()"
   ]
  },
  {
   "cell_type": "code",
   "execution_count": 58,
   "id": "fd628a46",
   "metadata": {},
   "outputs": [],
   "source": [
    "# Human transcription 1 counter\n",
    "human2_pii = Counter([a for sublist in pii_df[\"pii_types_human2\"] for a in sublist]).most_common()"
   ]
  },
  {
   "cell_type": "code",
   "execution_count": 59,
   "id": "7e5c165f",
   "metadata": {},
   "outputs": [],
   "source": [
    "pii_df_2 = pd.DataFrame([riva_pii, ds_pii, aws_pii, human1_pii, human2_pii])\n",
    "pii_df_2.columns=['Location', 'Person', 'NRP', 'Phone Number']\n",
    "pii_df_2 = pii_df_2.fillna(0)"
   ]
  },
  {
   "cell_type": "code",
   "execution_count": 70,
   "id": "0e9c790e",
   "metadata": {},
   "outputs": [
    {
     "data": {
      "text/html": [
       "<div>\n",
       "<style scoped>\n",
       "    .dataframe tbody tr th:only-of-type {\n",
       "        vertical-align: middle;\n",
       "    }\n",
       "\n",
       "    .dataframe tbody tr th {\n",
       "        vertical-align: top;\n",
       "    }\n",
       "\n",
       "    .dataframe thead th {\n",
       "        text-align: right;\n",
       "    }\n",
       "</style>\n",
       "<table border=\"1\" class=\"dataframe\">\n",
       "  <thead>\n",
       "    <tr style=\"text-align: right;\">\n",
       "      <th></th>\n",
       "      <th>Location</th>\n",
       "      <th>Person</th>\n",
       "      <th>NRP</th>\n",
       "      <th>Phone Number</th>\n",
       "    </tr>\n",
       "  </thead>\n",
       "  <tbody>\n",
       "    <tr>\n",
       "      <th>Riva</th>\n",
       "      <td>69</td>\n",
       "      <td>54</td>\n",
       "      <td>18</td>\n",
       "      <td>0</td>\n",
       "    </tr>\n",
       "    <tr>\n",
       "      <th>DS</th>\n",
       "      <td>37</td>\n",
       "      <td>33</td>\n",
       "      <td>13</td>\n",
       "      <td>0</td>\n",
       "    </tr>\n",
       "    <tr>\n",
       "      <th>Amazon</th>\n",
       "      <td>75</td>\n",
       "      <td>49</td>\n",
       "      <td>25</td>\n",
       "      <td>3</td>\n",
       "    </tr>\n",
       "    <tr>\n",
       "      <th>Human1</th>\n",
       "      <td>64</td>\n",
       "      <td>27</td>\n",
       "      <td>23</td>\n",
       "      <td>2</td>\n",
       "    </tr>\n",
       "    <tr>\n",
       "      <th>Human2</th>\n",
       "      <td>62</td>\n",
       "      <td>39</td>\n",
       "      <td>25</td>\n",
       "      <td>3</td>\n",
       "    </tr>\n",
       "  </tbody>\n",
       "</table>\n",
       "</div>"
      ],
      "text/plain": [
       "        Location  Person  NRP  Phone Number\n",
       "Riva          69      54   18             0\n",
       "DS            37      33   13             0\n",
       "Amazon        75      49   25             3\n",
       "Human1        64      27   23             2\n",
       "Human2        62      39   25             3"
      ]
     },
     "execution_count": 70,
     "metadata": {},
     "output_type": "execute_result"
    }
   ],
   "source": [
    "pii_df_2"
   ]
  },
  {
   "cell_type": "code",
   "execution_count": 60,
   "id": "f64d5f1a",
   "metadata": {},
   "outputs": [],
   "source": [
    "def extract_count(row):\n",
    "    if row != 0:\n",
    "        w,c = row\n",
    "        return c\n",
    "    else: return 0\n",
    "    \n",
    "pii_df_2 = pii_df_2.applymap(lambda x: extract_count(x))\n",
    "pii_df_2.index = [\"Riva\", \"DS\", \"Amazon\", \"Human1\", \"Human2\"]\n"
   ]
  },
  {
   "cell_type": "code",
   "execution_count": 61,
   "id": "e2899d98",
   "metadata": {},
   "outputs": [],
   "source": [
    "def get_perc_diff(x):\n",
    "    return (x - pii_df_2.loc['Human1'])/pii_df_2.loc['Human1']\n",
    "\n",
    "pii_percent_diff = pii_df_2.apply(get_perc_diff, axis=1)\n",
    "pii_percent_diff = pii_percent_diff.loc[[\"DS\", \"Riva\", \"Amazon\", \"Human2\"]].reset_index()\n",
    "pii_percent_diff = pii_percent_diff.melt(id_vars='index')\n",
    "pii_percent_diff.columns=['model', 'variable', 'p_change']"
   ]
  },
  {
   "cell_type": "code",
   "execution_count": 63,
   "id": "32cecc5b",
   "metadata": {},
   "outputs": [
    {
     "data": {
      "text/plain": [
       "0     -42.187500\n",
       "1       7.812500\n",
       "2      17.187500\n",
       "3      -3.125000\n",
       "4      22.222222\n",
       "5     100.000000\n",
       "6      81.481481\n",
       "7      44.444444\n",
       "8     -43.478261\n",
       "9     -21.739130\n",
       "10      8.695652\n",
       "11      8.695652\n",
       "12   -100.000000\n",
       "13   -100.000000\n",
       "14     50.000000\n",
       "15     50.000000\n",
       "Name: p_change, dtype: float64"
      ]
     },
     "execution_count": 63,
     "metadata": {},
     "output_type": "execute_result"
    }
   ],
   "source": [
    "pii_percent_diff[\"p_change\"] * 100"
   ]
  },
  {
   "cell_type": "code",
   "execution_count": 68,
   "id": "7a5afe76",
   "metadata": {
    "scrolled": true
   },
   "outputs": [
    {
     "data": {
      "image/png": "[encoded data removed]",
      "text/plain": [
       "<Figure size 504x576 with 1 Axes>"
      ]
     },
     "metadata": {
      "needs_background": "light"
     },
     "output_type": "display_data"
    }
   ],
   "source": [
    "data = pii_percent_diff[pii_percent_diff.variable != 'Phone Number']\n",
    "data[\"p_change\"] = data[\"p_change\"] * 100\n",
    "\n",
    "\n",
    "plt.figure(figsize=(7,8))\n",
    "ax = sns.barplot(data=data, \n",
    "                 x='variable', y='p_change', hue='model')\n",
    "plt.xlabel('', size=18)\n",
    "\n",
    "plt.xticks(size=18)\n",
    "plt.yticks(size=15)\n",
    "plt.ylabel('PII Detected (\\%)', size=18)\n",
    "\n",
    "handles, labels = ax.get_legend_handles_labels()\n",
    "\n",
    "# Remove spines\n",
    "sns.despine(top=True, right=True, bottom=True)\n",
    "# Remove all of the extra tick marks\n",
    "ax.minorticks_off()\n",
    "ax.tick_params(top=False, right=False, bottom=False)\n",
    "# Remove the ticks on the y axis\n",
    "# plt.tick_params(left = False)\n",
    "\n",
    "ax.axhline(y=0, color='black', linestyle='-', linewidth=1.3)\n",
    "\n",
    "plt.legend(title_fontsize=16, \n",
    "           fontsize=15, \n",
    "           title='', \n",
    "           ncol=1,\n",
    "           handles=handles,\n",
    "           labels=['Mozilla\\nDeepSpeech', 'NVIDIA\\nRiva', 'Amazon\\nTranscribe', 'Human'],\n",
    "           loc='upper right',\n",
    "           bbox_to_anchor=(1.2,1)\n",
    "          )\n",
    "\n",
    "plt.savefig('img/privacy_presidio_results.pdf', bbox_inches='tight') \n",
    "# plt.savefig('img/privacy_presidio_results.png', bbox_inches='tight') \n",
    "\n",
    "\n",
    "\n"
   ]
  },
  {
   "cell_type": "code",
   "execution_count": null,
   "id": "12be71ad",
   "metadata": {},
   "outputs": [],
   "source": []
  }
 ],
 "metadata": {
  "kernelspec": {
   "display_name": "Python 3",
   "language": "python",
   "name": "python3"
  },
  "language_info": {
   "codemirror_mode": {
    "name": "ipython",
    "version": 3
   },
   "file_extension": ".py",
   "mimetype": "text/x-python",
   "name": "python",
   "nbconvert_exporter": "python",
   "pygments_lexer": "ipython3",
   "version": "3.9.2"
  }
 },
 "nbformat": 4,
 "nbformat_minor": 5
}
