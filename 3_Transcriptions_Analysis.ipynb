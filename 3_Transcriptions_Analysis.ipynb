{
 "cells": [
  {
   "cell_type": "markdown",
   "id": "bad008ea",
   "metadata": {},
   "source": [
    "Once the audio clips have been selected, selected, and narrowed down, these clips are sent through the different ASRs and the outputs from these ASRs are obtained. Further, the clips are annotated by human annotators (two humans per clip). Finally, these human annotations are compared with the various ASR annotations.\n",
    "\n",
    "Places that can be improved:\n",
    "* Normalization of the transcriptions can be done a bit more carefully. \n",
    "    * Dealing with the `<UNKNOWN>` tags, which may span multiple words and affect WER negatively\n",
    "    * Dealing with numbers... Some humans and some ASRs transcribed numerics inconsistently, transcribing as 'two' or 2 depending on the situation. Need a better way to normalize these."
   ]
  },
  {
   "cell_type": "code",
   "execution_count": 33,
   "id": "91b84462",
   "metadata": {},
   "outputs": [],
   "source": [
    "import os\n",
    "import pandas as pd\n",
    "import re\n",
    "import csv\n",
    "import seaborn as sns\n",
    "import matplotlib.pyplot as plt\n",
    "\n",
    "plt.style.reload_library()\n",
    "plt.style.use('science')\n",
    "\n",
    "# Set color palette to ORCA palette\n",
    "import matplotlib as mpl\n",
    "from cycler import cycler\n",
    "mpl.rcParams['axes.prop_cycle'] = cycler(color=['#68829D', '#329B8A', '#D24437', '#F5B100', '#62ABB9', '#A3B100'])\n"
   ]
  },
  {
   "cell_type": "markdown",
   "id": "62f25653",
   "metadata": {},
   "source": [
    "# Collect all transcriptions"
   ]
  },
  {
   "cell_type": "markdown",
   "id": "2ad8954e",
   "metadata": {},
   "source": [
    "## Original Audio Files"
   ]
  },
  {
   "cell_type": "code",
   "execution_count": 2,
   "id": "99558516",
   "metadata": {},
   "outputs": [],
   "source": [
    "DIR_NAME = '/home/ubuntu/big_volume/covid_clips_after_segmenting'\n",
    "covid_segments = os.listdir(DIR_NAME)"
   ]
  },
  {
   "cell_type": "code",
   "execution_count": 3,
   "id": "53728c57",
   "metadata": {
    "scrolled": true
   },
   "outputs": [
    {
     "data": {
      "text/plain": [
       "335"
      ]
     },
     "execution_count": 3,
     "metadata": {},
     "output_type": "execute_result"
    }
   ],
   "source": [
    "len(covid_segments)"
   ]
  },
  {
   "cell_type": "markdown",
   "id": "4e45d6a4",
   "metadata": {},
   "source": [
    "## Human Transcriptions"
   ]
  },
  {
   "cell_type": "code",
   "execution_count": 4,
   "id": "08582bca",
   "metadata": {},
   "outputs": [],
   "source": [
    "human_segments = pd.read_csv('data/label_studio_transcriptions_12_09_2021_v2.csv')\n",
    "\n",
    "# Obtain just the WAV filename path with regex\n",
    "human_segments[\"wav_filename\"] = human_segments.audio.apply(lambda x: '-'.join(x.split('-')[1:]))\n",
    "\n",
    "# Shuffle the order\n",
    "human_segments = human_segments.sample(frac=1, random_state=42)"
   ]
  },
  {
   "cell_type": "code",
   "execution_count": 5,
   "id": "df6e8bcf",
   "metadata": {},
   "outputs": [
    {
     "data": {
      "text/plain": [
       "333"
      ]
     },
     "execution_count": 5,
     "metadata": {},
     "output_type": "execute_result"
    }
   ],
   "source": [
    "human_segments.wav_filename.nunique()"
   ]
  },
  {
   "cell_type": "code",
   "execution_count": 6,
   "id": "b52d3bc5",
   "metadata": {},
   "outputs": [
    {
     "data": {
      "text/plain": [
       "English                                    410\n",
       "Non-English                                206\n",
       "{\"choices\": [\"English\", \"Non-English\"]}      7\n",
       "Name: audio_language, dtype: int64"
      ]
     },
     "execution_count": 6,
     "metadata": {},
     "output_type": "execute_result"
    }
   ],
   "source": [
    "human_segments.audio_language.value_counts()"
   ]
  },
  {
   "cell_type": "code",
   "execution_count": 7,
   "id": "246663f1",
   "metadata": {},
   "outputs": [
    {
     "data": {
      "text/plain": [
       "(667, 334, 333)"
      ]
     },
     "execution_count": 7,
     "metadata": {},
     "output_type": "execute_result"
    }
   ],
   "source": [
    "# Ensure that each round of transcriptions gets its own row\n",
    "dups = human_segments[[\"wav_filename\", \"transcription\", \"annotator\", \"gender\", \"audio_language\", \"audio_quality\", \"additional_notes\", \"annotation_id\"]]\n",
    "\n",
    "# The first transcription for same wavfile\n",
    "d1 = dups[dups.wav_filename.duplicated()]\n",
    "\n",
    "# The second transcription for same wavfile\n",
    "d2 = dups.drop_duplicates('wav_filename')\n",
    "\n",
    "len(dups), len(d1), len(d2)"
   ]
  },
  {
   "cell_type": "code",
   "execution_count": 8,
   "id": "475e60d7",
   "metadata": {
    "scrolled": true
   },
   "outputs": [],
   "source": [
    "# Merge the first and last transcription duplicates\n",
    "human_seg_df = d2.merge(d1, how='left', on='wav_filename', suffixes=[\"_1\", \"_2\"])\n",
    "\n",
    "# # Sort the columns so they're in order\n",
    "# human_seg_df = human_seg_df[['wav_filename'] \\\n",
    "#                             + sorted(human_seg_df.columns)[:-1][-2:] \\\n",
    "#                             + sorted(human_seg_df.columns)[:-1][4:-2]]\n",
    "\n",
    "\n",
    "# Rename transcription column\n",
    "human_seg_df = human_seg_df.rename(columns={\"transcription_1\": \"transcription_human1\", \n",
    "                             \"transcription_2\": \"transcription_human2\"})"
   ]
  },
  {
   "cell_type": "markdown",
   "id": "3fb35ca0",
   "metadata": {},
   "source": [
    "## DeepSpeech Transcriptions"
   ]
  },
  {
   "cell_type": "code",
   "execution_count": 9,
   "id": "07dd84d9",
   "metadata": {},
   "outputs": [
    {
     "data": {
      "text/plain": [
       "358"
      ]
     },
     "execution_count": 9,
     "metadata": {},
     "output_type": "execute_result"
    }
   ],
   "source": [
    "DIR_NAME = '/efs-who/big_volume/covid_clips_after_segmenting-transcripts-deepspeech'\n",
    "deepspeech_segments_filenames = os.listdir(DIR_NAME)\n",
    "\n",
    "deepspeech_segments_filenames = [d for d in deepspeech_segments_filenames if d not in \n",
    "                                 ['log_metadata.csv', 'covid_segments_frequency_list.csv',\n",
    "                                  'log_metadat.csv', 'covid_segments_frequency_lis.csv']]\n",
    "\n",
    "len(deepspeech_segments_filenames)"
   ]
  },
  {
   "cell_type": "code",
   "execution_count": 10,
   "id": "d0cf25e2",
   "metadata": {},
   "outputs": [],
   "source": [
    "ds_segments = []\n",
    "for fn in deepspeech_segments_filenames:\n",
    "    with open(f'{DIR_NAME}/{fn}') as csvfile:\n",
    "        data = csv.reader(csvfile)\n",
    "        row = list(data)[1]\n",
    "        \n",
    "        ds_segments.append({\n",
    "            \"filename\": f'{DIR_NAME}/{fn}',\n",
    "            \"wav_filename\": re.sub('.csv', '.wav', row[3].split('/')[-1]),\n",
    "            \"transcription_deepspeech\": row[2]\n",
    "        })\n"
   ]
  },
  {
   "cell_type": "code",
   "execution_count": 11,
   "id": "44454180",
   "metadata": {},
   "outputs": [
    {
     "data": {
      "text/html": [
       "<div>\n",
       "<style scoped>\n",
       "    .dataframe tbody tr th:only-of-type {\n",
       "        vertical-align: middle;\n",
       "    }\n",
       "\n",
       "    .dataframe tbody tr th {\n",
       "        vertical-align: top;\n",
       "    }\n",
       "\n",
       "    .dataframe thead th {\n",
       "        text-align: right;\n",
       "    }\n",
       "</style>\n",
       "<table border=\"1\" class=\"dataframe\">\n",
       "  <thead>\n",
       "    <tr style=\"text-align: right;\">\n",
       "      <th></th>\n",
       "      <th>filename</th>\n",
       "      <th>wav_filename</th>\n",
       "      <th>transcription_deepspeech</th>\n",
       "    </tr>\n",
       "  </thead>\n",
       "  <tbody>\n",
       "    <tr>\n",
       "      <th>0</th>\n",
       "      <td>/efs-who/big_volume/covid_clips_after_segmenti...</td>\n",
       "      <td>south_africa_durban_EastCoastRadio_2021-08-11T...</td>\n",
       "      <td>He would have the potential to be very lengthy...</td>\n",
       "    </tr>\n",
       "    <tr>\n",
       "      <th>1</th>\n",
       "      <td>/efs-who/big_volume/covid_clips_after_segmenti...</td>\n",
       "      <td>namibia_windhoek_OmulungaRadio_2021-09-24T11.3...</td>\n",
       "      <td>On the other side of the spectrum a dutch cour...</td>\n",
       "    </tr>\n",
       "    <tr>\n",
       "      <th>2</th>\n",
       "      <td>/efs-who/big_volume/covid_clips_after_segmenti...</td>\n",
       "      <td>nigeria_lagos_NigeriaInfoLagos_2021-02-01T11.5...</td>\n",
       "      <td>Spent unenclosed representation by a chicago o...</td>\n",
       "    </tr>\n",
       "    <tr>\n",
       "      <th>3</th>\n",
       "      <td>/efs-who/big_volume/covid_clips_after_segmenti...</td>\n",
       "      <td>south_africa_durban_VumaFM_2021-02-03T04.00.01...</td>\n",
       "      <td>To follow the few</td>\n",
       "    </tr>\n",
       "    <tr>\n",
       "      <th>4</th>\n",
       "      <td>/efs-who/big_volume/covid_clips_after_segmenti...</td>\n",
       "      <td>south_africa_cape_town_CapeTalk_2021-02-12T14....</td>\n",
       "      <td>On east to a five and a position five six seven</td>\n",
       "    </tr>\n",
       "  </tbody>\n",
       "</table>\n",
       "</div>"
      ],
      "text/plain": [
       "                                            filename  \\\n",
       "0  /efs-who/big_volume/covid_clips_after_segmenti...   \n",
       "1  /efs-who/big_volume/covid_clips_after_segmenti...   \n",
       "2  /efs-who/big_volume/covid_clips_after_segmenti...   \n",
       "3  /efs-who/big_volume/covid_clips_after_segmenti...   \n",
       "4  /efs-who/big_volume/covid_clips_after_segmenti...   \n",
       "\n",
       "                                        wav_filename  \\\n",
       "0  south_africa_durban_EastCoastRadio_2021-08-11T...   \n",
       "1  namibia_windhoek_OmulungaRadio_2021-09-24T11.3...   \n",
       "2  nigeria_lagos_NigeriaInfoLagos_2021-02-01T11.5...   \n",
       "3  south_africa_durban_VumaFM_2021-02-03T04.00.01...   \n",
       "4  south_africa_cape_town_CapeTalk_2021-02-12T14....   \n",
       "\n",
       "                            transcription_deepspeech  \n",
       "0  He would have the potential to be very lengthy...  \n",
       "1  On the other side of the spectrum a dutch cour...  \n",
       "2  Spent unenclosed representation by a chicago o...  \n",
       "3                                  To follow the few  \n",
       "4    On east to a five and a position five six seven  "
      ]
     },
     "execution_count": 11,
     "metadata": {},
     "output_type": "execute_result"
    }
   ],
   "source": [
    "ds_seg_df = pd.DataFrame(ds_segments)\n",
    "ds_seg_df.head()"
   ]
  },
  {
   "cell_type": "markdown",
   "id": "75b3585a",
   "metadata": {},
   "source": [
    "## NVIDIA (riva) Transcriptions"
   ]
  },
  {
   "cell_type": "code",
   "execution_count": 12,
   "id": "7e64649b",
   "metadata": {},
   "outputs": [
    {
     "data": {
      "text/plain": [
       "666"
      ]
     },
     "execution_count": 12,
     "metadata": {},
     "output_type": "execute_result"
    }
   ],
   "source": [
    "DIR_NAME = '/efs-who/big_volume/covid_clips_after_segmenting-transcripts-riva'\n",
    "riva_segments_filenames = os.listdir(DIR_NAME)\n",
    "len(riva_segments_filenames)"
   ]
  },
  {
   "cell_type": "code",
   "execution_count": 13,
   "id": "212d3261",
   "metadata": {},
   "outputs": [],
   "source": [
    "riva_segments = []\n",
    "for fn in riva_segments_filenames:\n",
    "    # Only get txt files\n",
    "    if '.txt' in fn:\n",
    "        with open(f'{DIR_NAME}/{fn}') as f:\n",
    "            lines = f.read()\n",
    "        riva_segments.append({\n",
    "            \"filename\": f'{DIR_NAME}/{fn}',\n",
    "            \"wav_filename\": fn.split('.transcription.')[0],\n",
    "            \"transcription_riva\": lines\n",
    "        })\n",
    "        "
   ]
  },
  {
   "cell_type": "markdown",
   "id": "5cf3900c",
   "metadata": {},
   "source": [
    "## AWS Transcriptions"
   ]
  },
  {
   "cell_type": "code",
   "execution_count": 14,
   "id": "05439f64",
   "metadata": {},
   "outputs": [
    {
     "data": {
      "text/plain": [
       "664"
      ]
     },
     "execution_count": 14,
     "metadata": {},
     "output_type": "execute_result"
    }
   ],
   "source": [
    "DIR_NAME = '/efs-who/big_volume/covid_clips_after_segmenting-transcripts-aws'\n",
    "aws_segments_filenames = os.listdir(DIR_NAME)\n",
    "len(aws_segments_filenames)"
   ]
  },
  {
   "cell_type": "code",
   "execution_count": 15,
   "id": "b9c5ac24",
   "metadata": {},
   "outputs": [],
   "source": [
    "aws_segments = []\n",
    "for fn in aws_segments_filenames:\n",
    "    # Only get txt files\n",
    "    if '.txt' in fn:\n",
    "        with open(f'{DIR_NAME}/{fn}') as f:\n",
    "            lines = f.read()\n",
    "        aws_segments.append({\n",
    "            \"filename\": f'{DIR_NAME}/{fn}',\n",
    "            \"wav_filename\": fn.split('.transcription.')[0],\n",
    "            \"transcription_aws\": lines\n",
    "        })\n",
    "        "
   ]
  },
  {
   "cell_type": "code",
   "execution_count": 16,
   "id": "8a817edb",
   "metadata": {
    "scrolled": true
   },
   "outputs": [
    {
     "data": {
      "text/html": [
       "<div>\n",
       "<style scoped>\n",
       "    .dataframe tbody tr th:only-of-type {\n",
       "        vertical-align: middle;\n",
       "    }\n",
       "\n",
       "    .dataframe tbody tr th {\n",
       "        vertical-align: top;\n",
       "    }\n",
       "\n",
       "    .dataframe thead th {\n",
       "        text-align: right;\n",
       "    }\n",
       "</style>\n",
       "<table border=\"1\" class=\"dataframe\">\n",
       "  <thead>\n",
       "    <tr style=\"text-align: right;\">\n",
       "      <th></th>\n",
       "      <th>filename</th>\n",
       "      <th>wav_filename</th>\n",
       "      <th>transcription_aws</th>\n",
       "    </tr>\n",
       "  </thead>\n",
       "  <tbody>\n",
       "    <tr>\n",
       "      <th>0</th>\n",
       "      <td>/efs-who/big_volume/covid_clips_after_segmenti...</td>\n",
       "      <td>south_africa_cape_town_CapeTalk_2021-02-12T14....</td>\n",
       "      <td>Good afternoon, I'm Wesley Peterson, 12 people...</td>\n",
       "    </tr>\n",
       "    <tr>\n",
       "      <th>1</th>\n",
       "      <td>/efs-who/big_volume/covid_clips_after_segmenti...</td>\n",
       "      <td>nigeria_lagos_LagosTalks_2021-10-12T10.35.01_1...</td>\n",
       "      <td>It's important in nerve functioning, blood clo...</td>\n",
       "    </tr>\n",
       "    <tr>\n",
       "      <th>2</th>\n",
       "      <td>/efs-who/big_volume/covid_clips_after_segmenti...</td>\n",
       "      <td>south_africa_durban_EastCoastRadio_2021-08-11T...</td>\n",
       "      <td>In the caucus of the a n c then meets and then...</td>\n",
       "    </tr>\n",
       "    <tr>\n",
       "      <th>3</th>\n",
       "      <td>/efs-who/big_volume/covid_clips_after_segmenti...</td>\n",
       "      <td>nigeria_lagos_NigeriaInfoLagos_2021-02-01T11.5...</td>\n",
       "      <td>So that seems to be financially free, you send...</td>\n",
       "    </tr>\n",
       "    <tr>\n",
       "      <th>4</th>\n",
       "      <td>/efs-who/big_volume/covid_clips_after_segmenti...</td>\n",
       "      <td>namibia_windhoek_EagleFM_2021-02-18T00.15.01_0...</td>\n",
       "      <td>Okay, dr um what are the other dangers that a ...</td>\n",
       "    </tr>\n",
       "  </tbody>\n",
       "</table>\n",
       "</div>"
      ],
      "text/plain": [
       "                                            filename  \\\n",
       "0  /efs-who/big_volume/covid_clips_after_segmenti...   \n",
       "1  /efs-who/big_volume/covid_clips_after_segmenti...   \n",
       "2  /efs-who/big_volume/covid_clips_after_segmenti...   \n",
       "3  /efs-who/big_volume/covid_clips_after_segmenti...   \n",
       "4  /efs-who/big_volume/covid_clips_after_segmenti...   \n",
       "\n",
       "                                        wav_filename  \\\n",
       "0  south_africa_cape_town_CapeTalk_2021-02-12T14....   \n",
       "1  nigeria_lagos_LagosTalks_2021-10-12T10.35.01_1...   \n",
       "2  south_africa_durban_EastCoastRadio_2021-08-11T...   \n",
       "3  nigeria_lagos_NigeriaInfoLagos_2021-02-01T11.5...   \n",
       "4  namibia_windhoek_EagleFM_2021-02-18T00.15.01_0...   \n",
       "\n",
       "                                   transcription_aws  \n",
       "0  Good afternoon, I'm Wesley Peterson, 12 people...  \n",
       "1  It's important in nerve functioning, blood clo...  \n",
       "2  In the caucus of the a n c then meets and then...  \n",
       "3  So that seems to be financially free, you send...  \n",
       "4  Okay, dr um what are the other dangers that a ...  "
      ]
     },
     "execution_count": 16,
     "metadata": {},
     "output_type": "execute_result"
    }
   ],
   "source": [
    "aws_seg_df = pd.DataFrame(aws_segments)\n",
    "aws_seg_df.head()"
   ]
  },
  {
   "cell_type": "code",
   "execution_count": 17,
   "id": "de90103c",
   "metadata": {},
   "outputs": [
    {
     "data": {
      "text/html": [
       "<div>\n",
       "<style scoped>\n",
       "    .dataframe tbody tr th:only-of-type {\n",
       "        vertical-align: middle;\n",
       "    }\n",
       "\n",
       "    .dataframe tbody tr th {\n",
       "        vertical-align: top;\n",
       "    }\n",
       "\n",
       "    .dataframe thead th {\n",
       "        text-align: right;\n",
       "    }\n",
       "</style>\n",
       "<table border=\"1\" class=\"dataframe\">\n",
       "  <thead>\n",
       "    <tr style=\"text-align: right;\">\n",
       "      <th></th>\n",
       "      <th>filename</th>\n",
       "      <th>wav_filename</th>\n",
       "      <th>transcription_riva</th>\n",
       "    </tr>\n",
       "  </thead>\n",
       "  <tbody>\n",
       "    <tr>\n",
       "      <th>0</th>\n",
       "      <td>/efs-who/big_volume/covid_clips_after_segmenti...</td>\n",
       "      <td>nigeria_abeokuta_OgunRadioFM_2021-09-03T11.05....</td>\n",
       "      <td>su hundred 31 new cases of virus were recorded...</td>\n",
       "    </tr>\n",
       "    <tr>\n",
       "      <th>1</th>\n",
       "      <td>/efs-who/big_volume/covid_clips_after_segmenti...</td>\n",
       "      <td>namibia_windhoek_EagleFM_2021-02-18T00.15.01_0...</td>\n",
       "      <td>okay dr. um what are the other dangers that a ...</td>\n",
       "    </tr>\n",
       "    <tr>\n",
       "      <th>2</th>\n",
       "      <td>/efs-who/big_volume/covid_clips_after_segmenti...</td>\n",
       "      <td>nigeria_ado-ekiti_EktiRadio_2021-10-08T16.40.0...</td>\n",
       "      <td>a cooler outbreak has killed about 20 resident...</td>\n",
       "    </tr>\n",
       "    <tr>\n",
       "      <th>3</th>\n",
       "      <td>/efs-who/big_volume/covid_clips_after_segmenti...</td>\n",
       "      <td>namibia_windhoek_EagleFM_2021-06-07T03.45.01_8...</td>\n",
       "      <td>there's aging as far as i.e. concerned we take...</td>\n",
       "    </tr>\n",
       "    <tr>\n",
       "      <th>4</th>\n",
       "      <td>/efs-who/big_volume/covid_clips_after_segmenti...</td>\n",
       "      <td>south_africa_durban_EastCoastRadio_2021-08-11T...</td>\n",
       "      <td>then the caucus of the ac then meets and then ...</td>\n",
       "    </tr>\n",
       "  </tbody>\n",
       "</table>\n",
       "</div>"
      ],
      "text/plain": [
       "                                            filename  \\\n",
       "0  /efs-who/big_volume/covid_clips_after_segmenti...   \n",
       "1  /efs-who/big_volume/covid_clips_after_segmenti...   \n",
       "2  /efs-who/big_volume/covid_clips_after_segmenti...   \n",
       "3  /efs-who/big_volume/covid_clips_after_segmenti...   \n",
       "4  /efs-who/big_volume/covid_clips_after_segmenti...   \n",
       "\n",
       "                                        wav_filename  \\\n",
       "0  nigeria_abeokuta_OgunRadioFM_2021-09-03T11.05....   \n",
       "1  namibia_windhoek_EagleFM_2021-02-18T00.15.01_0...   \n",
       "2  nigeria_ado-ekiti_EktiRadio_2021-10-08T16.40.0...   \n",
       "3  namibia_windhoek_EagleFM_2021-06-07T03.45.01_8...   \n",
       "4  south_africa_durban_EastCoastRadio_2021-08-11T...   \n",
       "\n",
       "                                  transcription_riva  \n",
       "0  su hundred 31 new cases of virus were recorded...  \n",
       "1  okay dr. um what are the other dangers that a ...  \n",
       "2  a cooler outbreak has killed about 20 resident...  \n",
       "3  there's aging as far as i.e. concerned we take...  \n",
       "4  then the caucus of the ac then meets and then ...  "
      ]
     },
     "execution_count": 17,
     "metadata": {},
     "output_type": "execute_result"
    }
   ],
   "source": [
    "riva_seg_df = pd.DataFrame(riva_segments)\n",
    "riva_seg_df.head()"
   ]
  },
  {
   "cell_type": "markdown",
   "id": "5bb05ff2",
   "metadata": {},
   "source": [
    "## Merge"
   ]
  },
  {
   "cell_type": "code",
   "execution_count": 18,
   "id": "6219d5ce",
   "metadata": {
    "code_folding": []
   },
   "outputs": [],
   "source": [
    "# Map words to their numeric values. There were no good Python libraries to do this\n",
    "# so this was done in a crude manner. \n",
    "word2num = {\n",
    "    \"zero\": 0,\n",
    "    \"one\": 1,\n",
    "    \"two\": 2,\n",
    "    \"three\": 3,\n",
    "    \"four\": 4,\n",
    "    \"five\": 5,\n",
    "    \"six\": 6, \n",
    "    \"seven\": 7,\n",
    "    \"eight\": 8,\n",
    "    \"nine\": 9,\n",
    "    \"ten\": 10,\n",
    "    \"eleven\": 11,\n",
    "    \"twelve\": 12,\n",
    "    \"thirteen\": 13,\n",
    "    \"fourteen\": 14,\n",
    "    \"fifteen\": 15,\n",
    "    \"sixteen\": 16,\n",
    "    \"seventeen\": 17,\n",
    "    \"eighteen\": 18,\n",
    "    \"nineteen\": 19,\n",
    "    \"twenty\": 20,\n",
    "    \"thirty\": 30,\n",
    "    \"forty\": 40,\n",
    "    \"fifty\": 50,\n",
    "    \"sixty\": 60,\n",
    "    \"seventy\": 70,\n",
    "    \"eighty\": 80,\n",
    "    \"ninety\": 90,\n",
    "    \"hundred\": 100,\n",
    "    \"thousand\": 1000,\n",
    "}"
   ]
  },
  {
   "cell_type": "code",
   "execution_count": 19,
   "id": "d4327a0a",
   "metadata": {},
   "outputs": [
    {
     "data": {
      "text/plain": [
       "333"
      ]
     },
     "execution_count": 19,
     "metadata": {},
     "output_type": "execute_result"
    }
   ],
   "source": [
    "# Merge all of the DFs together\n",
    "merged_df = riva_seg_df[[\"wav_filename\", \"transcription_riva\"]]\\\n",
    "    .merge(ds_seg_df[[\"wav_filename\", \"transcription_deepspeech\"]], on=[\"wav_filename\"])\\\n",
    "    .merge(aws_seg_df[[\"wav_filename\", \"transcription_aws\"]], on=[\"wav_filename\"])\\\n",
    "    .merge(human_seg_df, on='wav_filename')\n",
    "\n",
    "# Additional metadata from filename\n",
    "merged_df[\"country\"] = merged_df.wav_filename.apply(lambda x: x.split(\"_\")[0].title())\n",
    "merged_df[\"city\"] = merged_df.wav_filename.apply(lambda x: x.split(\"_\")[-4].title())\n",
    "merged_df[\"station\"] = merged_df.wav_filename.apply(lambda x: x.split(\"_\")[-3])\n",
    "merged_df[\"datetime\"] = merged_df.wav_filename.apply(lambda x: x.split(\"_\")[-2])\n",
    "\n",
    "# Fix a few errors from underscore (south africa being south_africa)\n",
    "merged_df.loc[merged_df.country==\"South\", \"country\"] = \"South Africa\"\n",
    "merged_df.loc[((merged_df.city==\"Town\") & (merged_df.country==\"South Africa\")), \"city\"] = \"Cape Town\"\n",
    "\n",
    "len(merged_df)"
   ]
  },
  {
   "cell_type": "code",
   "execution_count": 20,
   "id": "add68870",
   "metadata": {},
   "outputs": [
    {
     "data": {
      "text/plain": [
       "Rwanda          68\n",
       "Kenya           28\n",
       "Nigeria          1\n",
       "South Africa     1\n",
       "Name: country, dtype: int64"
      ]
     },
     "execution_count": 20,
     "metadata": {},
     "output_type": "execute_result"
    }
   ],
   "source": [
    "# Lots of non-english clips for Rwanda (at least so far)\n",
    "# If at least one annotator has said it was non-english\n",
    "non_english = merged_df[(merged_df.audio_language_1 == \"Non-English\") | (merged_df.audio_language_1 == \"Non-English\")]\n",
    "non_english.country.value_counts()\n",
    "\n"
   ]
  },
  {
   "cell_type": "code",
   "execution_count": 21,
   "id": "c645474d",
   "metadata": {},
   "outputs": [
    {
     "data": {
      "text/plain": [
       "English                                    202\n",
       "Non-English                                 98\n",
       "{\"choices\": [\"English\", \"Non-English\"]}      5\n",
       "Name: audio_language_1, dtype: int64"
      ]
     },
     "execution_count": 21,
     "metadata": {},
     "output_type": "execute_result"
    }
   ],
   "source": [
    "merged_df.audio_language_1.value_counts()"
   ]
  },
  {
   "cell_type": "code",
   "execution_count": 22,
   "id": "aaf17528",
   "metadata": {},
   "outputs": [
    {
     "data": {
      "text/plain": [
       "English                                    208\n",
       "Non-English                                107\n",
       "{\"choices\": [\"English\", \"Non-English\"]}      2\n",
       "Name: audio_language_2, dtype: int64"
      ]
     },
     "execution_count": 22,
     "metadata": {},
     "output_type": "execute_result"
    }
   ],
   "source": [
    "merged_df.audio_language_2.value_counts()"
   ]
  },
  {
   "cell_type": "markdown",
   "id": "9052b478",
   "metadata": {},
   "source": [
    "## Select English clips and normalize"
   ]
  },
  {
   "cell_type": "code",
   "execution_count": 23,
   "id": "8220a958",
   "metadata": {},
   "outputs": [
    {
     "name": "stderr",
     "output_type": "stream",
     "text": [
      "/home/ubuntu/anaconda3/envs/yennie/lib/python3.9/site-packages/pandas/core/generic.py:5494: SettingWithCopyWarning: \n",
      "A value is trying to be set on a copy of a slice from a DataFrame.\n",
      "Try using .loc[row_indexer,col_indexer] = value instead\n",
      "\n",
      "See the caveats in the documentation: https://pandas.pydata.org/pandas-docs/stable/user_guide/indexing.html#returning-a-view-versus-a-copy\n",
      "  self[name] = value\n"
     ]
    },
    {
     "data": {
      "text/plain": [
       "Nigeria         73\n",
       "South Africa    67\n",
       "Namibia         61\n",
       "Kenya           20\n",
       "Name: country, dtype: int64"
      ]
     },
     "execution_count": 23,
     "metadata": {},
     "output_type": "execute_result"
    }
   ],
   "source": [
    "# Only look at clips in English\n",
    "english_clips = merged_df[(merged_df.audio_language_1 != \"Non-English\") & (merged_df.audio_language_2 != \"Non-English\")]\n",
    "\n",
    "# Fill null transcriptions with empty str for now\n",
    "english_clips.transcription_human1 = english_clips.transcription_human1.fillna(\"\")\n",
    "english_clips.transcription_human2 = english_clips.transcription_human2.fillna(\"\")\n",
    "\n",
    "english_clips.country.value_counts()"
   ]
  },
  {
   "cell_type": "code",
   "execution_count": 24,
   "id": "b6fbeab4",
   "metadata": {},
   "outputs": [
    {
     "name": "stderr",
     "output_type": "stream",
     "text": [
      "<ipython-input-24-4909aef8bb6d>:32: FutureWarning: The default value of regex will change from True to False in a future version.\n",
      "  s = s.str.replace('\\.|,|\\?|-', '')\n",
      "<ipython-input-24-4909aef8bb6d>:37: SettingWithCopyWarning: \n",
      "A value is trying to be set on a copy of a slice from a DataFrame.\n",
      "Try using .loc[row_indexer,col_indexer] = value instead\n",
      "\n",
      "See the caveats in the documentation: https://pandas.pydata.org/pandas-docs/stable/user_guide/indexing.html#returning-a-view-versus-a-copy\n",
      "  english_clips[t] = s\n"
     ]
    }
   ],
   "source": [
    "# Lowercase \n",
    "for t in [\"transcription_riva\", \"transcription_deepspeech\", \"transcription_aws\",\n",
    "          \"transcription_human1\", \"transcription_human2\"]:\n",
    "    # Lowercase\n",
    "    s = english_clips[t].apply(str.lower)\n",
    "    \n",
    "    # Replace dr. with doctor\n",
    "    s = s.apply(lambda x: re.sub(r'\\bdr\\.', 'doctor', x))\n",
    "    \n",
    "    # Replace um+ with um\n",
    "    s = s.apply(lambda x: re.sub(r'\\bum+', 'um', x))\n",
    "    \n",
    "    # Replace eh, uh+ with uh\n",
    "    s = s.apply(lambda x: re.sub(r'\\beh\\b', 'uh', x))\n",
    "    s = s.apply(lambda x: re.sub(r'\\buh+', 'uh', x))\n",
    "    s = s.apply(lambda x: re.sub(r'\\bah+', 'uh', x))\n",
    "    \n",
    "    # Replace alright with all right\n",
    "    s = s.apply(lambda x: re.sub(r'\\balright', 'all right', x))\n",
    "    \n",
    "    # Replace covid\n",
    "    s = s.apply(lambda x: re.sub(r'\\bcovid19', 'covid 19', x))\n",
    "    \n",
    "    s = s.apply(lambda x: re.sub(r'\\b6:00', \"six o'clock\", x))\n",
    "    s = s.apply(lambda x: re.sub(r'\\bfive thousand', \"5000\", x))\n",
    "    \n",
    "    # Replace number words with their proper value\n",
    "    for i in word2num.keys():\n",
    "        s = s.apply(lambda x: re.sub(fr'\\b{i}\\b', str(word2num[i]), x))\n",
    "       \n",
    "    # Remove the following punctuation: .,-?\n",
    "    s = s.str.replace('\\.|,|\\?|-', '')\n",
    "    \n",
    "    # Remove newlines\n",
    "    s = s.str.replace('\\n', '')\n",
    "    \n",
    "    english_clips[t] = s"
   ]
  },
  {
   "cell_type": "code",
   "execution_count": 25,
   "id": "0fc9a389",
   "metadata": {},
   "outputs": [],
   "source": [
    "merged_df.to_csv('merged_df.csv', index=False)\n",
    "english_clips.to_csv('english_clips.csv', index=False)"
   ]
  },
  {
   "cell_type": "code",
   "execution_count": 26,
   "id": "0d6b4a0a",
   "metadata": {},
   "outputs": [],
   "source": [
    "# english_clips = pd.read_csv('english_clips.csv')"
   ]
  },
  {
   "cell_type": "code",
   "execution_count": 27,
   "id": "be29d221",
   "metadata": {},
   "outputs": [
    {
     "data": {
      "text/plain": [
       "array(['kara state government has warned health officials against issuing covid 9 vaccination cards to people who refuse to be vaccinated but wish to acquire the cards the executive secretary of the quar state primary health care development agency dr noser au gave the warning at a news conference in i lori to condemn the alleged acquisition of such vaccination cards by those who will not want to be vaccinated',\n",
       "       \"while as did comment as 1 held officials against it in covington location chart to people who refuse to be buttoned but which to a cloud the carts the editor secretary of the protested primary health care development agency doctor nora all give the 1 in at news conference in the lorry to condemn the let a position of subornation clouds by those who don't want to be lacinated\",\n",
       "       'kwara state government as 1 health officials against covid 19 vaccination cards to people who refuse to be vaccinated but wish to acquire the cards the executive secretary of the kwara state primary health care development agency doctor nusrat hallelu give the warning at a news conference in the lorry to condemn the alleged acquisition of such vaccination cards by those who would not want to be vaccinated',\n",
       "       'kwara state government as 1 health official against an issue with covid19 vaccination cost to people who refuse to be vaccinated or they would wish to acquire the cost the executive secretary of the kwara state national primary healthcare development agency doctor nusirat elelu give the 1 in at the news conference in ilorin to condemn the alleged accusation of short vaccination cards by those who would not want to be vaccinated',\n",
       "       '<unknown> government has warned health officials agains issuing covid19 vaccination cards to people who refuse to be vaccinated but wish to acquire the cards the <unknown> secretary of the <unknown> primary health care development agency doctor nussrat lelu gave the warning at a news conference in ilare she condemned the alleged accusation of <unknown> vaccination cards by those who would not want to be vaccinated'],\n",
       "      dtype=object)"
      ]
     },
     "execution_count": 27,
     "metadata": {},
     "output_type": "execute_result"
    }
   ],
   "source": [
    "english_clips[[\"transcription_riva\", \"transcription_deepspeech\", \"transcription_aws\",\n",
    "           \"transcription_human1\", \"transcription_human2\"]].loc[159].values"
   ]
  },
  {
   "cell_type": "code",
   "execution_count": 28,
   "id": "5dcc80bf",
   "metadata": {},
   "outputs": [
    {
     "data": {
      "text/html": [
       "<div>\n",
       "<style scoped>\n",
       "    .dataframe tbody tr th:only-of-type {\n",
       "        vertical-align: middle;\n",
       "    }\n",
       "\n",
       "    .dataframe tbody tr th {\n",
       "        vertical-align: top;\n",
       "    }\n",
       "\n",
       "    .dataframe thead th {\n",
       "        text-align: right;\n",
       "    }\n",
       "</style>\n",
       "<table border=\"1\" class=\"dataframe\">\n",
       "  <thead>\n",
       "    <tr style=\"text-align: right;\">\n",
       "      <th></th>\n",
       "      <th>transcription_riva</th>\n",
       "      <th>transcription_deepspeech</th>\n",
       "      <th>transcription_aws</th>\n",
       "      <th>transcription_human1</th>\n",
       "      <th>transcription_human2</th>\n",
       "    </tr>\n",
       "  </thead>\n",
       "  <tbody>\n",
       "    <tr>\n",
       "      <th>0</th>\n",
       "      <td>su 100 31 new cases of virus were recorded in ...</td>\n",
       "      <td>sometimes a new kisses of the various when he ...</td>\n",
       "      <td>1631 new cases of the virus were recorded in 1...</td>\n",
       "      <td>&lt;unknown&gt; &lt;unknown&gt; 1 new case of the virus wa...</td>\n",
       "      <td>&lt;unknown&gt; that 1 new case of the virus were re...</td>\n",
       "    </tr>\n",
       "    <tr>\n",
       "      <th>1</th>\n",
       "      <td>okay doctor um what are the other dangers that...</td>\n",
       "      <td>1 note and what are the other dangers that a d...</td>\n",
       "      <td>okay dr um what are the other dangers that a u...</td>\n",
       "      <td>um okay doctor what are the other dangers that...</td>\n",
       "      <td>okay doctor um what are the other dangers that...</td>\n",
       "    </tr>\n",
       "    <tr>\n",
       "      <th>2</th>\n",
       "      <td>a cooler outbreak has killed about 20 resident...</td>\n",
       "      <td>a caller outbreak as killed about 20 residents...</td>\n",
       "      <td>a cholera outbreak has killed about 20 residen...</td>\n",
       "      <td>a cholera outbreak has killed about 20 residen...</td>\n",
       "      <td>a color outbreak is killed about 20 residents ...</td>\n",
       "    </tr>\n",
       "    <tr>\n",
       "      <th>3</th>\n",
       "      <td>there's aging as far as ie concerned we take a...</td>\n",
       "      <td>and that is a getting his fire that is concern...</td>\n",
       "      <td>and that is what we're getting as far as that ...</td>\n",
       "      <td>&lt;trunc&gt; that is concerned we'll take a look at...</td>\n",
       "      <td>&lt;unknown&gt; 5 that is concerned uh we take a loo...</td>\n",
       "    </tr>\n",
       "    <tr>\n",
       "      <th>4</th>\n",
       "      <td>then the caucus of the ac then meets and then ...</td>\n",
       "      <td>in the process of the ice the needs and then d...</td>\n",
       "      <td>in the caucus of the a n c then meets and then...</td>\n",
       "      <td>then the caucus of the anc then meets and then...</td>\n",
       "      <td>then the caucus of the anc then meets and deci...</td>\n",
       "    </tr>\n",
       "    <tr>\n",
       "      <th>...</th>\n",
       "      <td>...</td>\n",
       "      <td>...</td>\n",
       "      <td>...</td>\n",
       "      <td>...</td>\n",
       "      <td>...</td>\n",
       "    </tr>\n",
       "    <tr>\n",
       "      <th>326</th>\n",
       "      <td>what crime in justice a brand new kenyon show ...</td>\n",
       "      <td>what crime and justice a bran new kennon shamu...</td>\n",
       "      <td>watch crime and justice a brand new kenyan sho...</td>\n",
       "      <td>watch crime &amp;  justice a brand new kenyan show...</td>\n",
       "      <td>what &lt;unknown&gt; justice a brand new &lt;unknown&gt; c...</td>\n",
       "    </tr>\n",
       "    <tr>\n",
       "      <th>327</th>\n",
       "      <td>miners died after sneaking into the old pit of...</td>\n",
       "      <td>my sight after sinking into the old pet of a g...</td>\n",
       "      <td>legal miners died after sneaking into the old ...</td>\n",
       "      <td>&lt;unknown&gt; died after sneaking into the old &lt;un...</td>\n",
       "      <td>several miners died after sneaking into the ol...</td>\n",
       "    </tr>\n",
       "    <tr>\n",
       "      <th>329</th>\n",
       "      <td>let's get it this friday morning at 2 min past...</td>\n",
       "      <td>let's give this friday morning it to man's pos...</td>\n",
       "      <td>let's get it this friday morning at 2 minutes ...</td>\n",
       "      <td>let's give it this friday morning at 2 minutes...</td>\n",
       "      <td>lets get it this friday morning at 2 minutes p...</td>\n",
       "    </tr>\n",
       "    <tr>\n",
       "      <th>330</th>\n",
       "      <td>however of course you know that it's that detr...</td>\n",
       "      <td>however cause you know that its sad detriment ...</td>\n",
       "      <td>however of course you know that it's detriment...</td>\n",
       "      <td>however of course you know that it is such det...</td>\n",
       "      <td>however off cause you know that it is detrimen...</td>\n",
       "    </tr>\n",
       "    <tr>\n",
       "      <th>331</th>\n",
       "      <td>just try again tomorrow tomorrow will be a bit...</td>\n",
       "      <td>just try to get more than a dubedat with someo...</td>\n",
       "      <td>just try again tomorrow tomorrow will be a bet...</td>\n",
       "      <td>just try again tomorrow tomorrow will be a big...</td>\n",
       "      <td>just try again tomorrow tomorrow will be a bet...</td>\n",
       "    </tr>\n",
       "  </tbody>\n",
       "</table>\n",
       "<p>221 rows × 5 columns</p>\n",
       "</div>"
      ],
      "text/plain": [
       "                                    transcription_riva  \\\n",
       "0    su 100 31 new cases of virus were recorded in ...   \n",
       "1    okay doctor um what are the other dangers that...   \n",
       "2    a cooler outbreak has killed about 20 resident...   \n",
       "3    there's aging as far as ie concerned we take a...   \n",
       "4    then the caucus of the ac then meets and then ...   \n",
       "..                                                 ...   \n",
       "326  what crime in justice a brand new kenyon show ...   \n",
       "327  miners died after sneaking into the old pit of...   \n",
       "329  let's get it this friday morning at 2 min past...   \n",
       "330  however of course you know that it's that detr...   \n",
       "331  just try again tomorrow tomorrow will be a bit...   \n",
       "\n",
       "                              transcription_deepspeech  \\\n",
       "0    sometimes a new kisses of the various when he ...   \n",
       "1    1 note and what are the other dangers that a d...   \n",
       "2    a caller outbreak as killed about 20 residents...   \n",
       "3    and that is a getting his fire that is concern...   \n",
       "4    in the process of the ice the needs and then d...   \n",
       "..                                                 ...   \n",
       "326  what crime and justice a bran new kennon shamu...   \n",
       "327  my sight after sinking into the old pet of a g...   \n",
       "329  let's give this friday morning it to man's pos...   \n",
       "330  however cause you know that its sad detriment ...   \n",
       "331  just try to get more than a dubedat with someo...   \n",
       "\n",
       "                                     transcription_aws  \\\n",
       "0    1631 new cases of the virus were recorded in 1...   \n",
       "1    okay dr um what are the other dangers that a u...   \n",
       "2    a cholera outbreak has killed about 20 residen...   \n",
       "3    and that is what we're getting as far as that ...   \n",
       "4    in the caucus of the a n c then meets and then...   \n",
       "..                                                 ...   \n",
       "326  watch crime and justice a brand new kenyan sho...   \n",
       "327  legal miners died after sneaking into the old ...   \n",
       "329  let's get it this friday morning at 2 minutes ...   \n",
       "330  however of course you know that it's detriment...   \n",
       "331  just try again tomorrow tomorrow will be a bet...   \n",
       "\n",
       "                                  transcription_human1  \\\n",
       "0    <unknown> <unknown> 1 new case of the virus wa...   \n",
       "1    um okay doctor what are the other dangers that...   \n",
       "2    a cholera outbreak has killed about 20 residen...   \n",
       "3    <trunc> that is concerned we'll take a look at...   \n",
       "4    then the caucus of the anc then meets and then...   \n",
       "..                                                 ...   \n",
       "326  watch crime &  justice a brand new kenyan show...   \n",
       "327  <unknown> died after sneaking into the old <un...   \n",
       "329  let's give it this friday morning at 2 minutes...   \n",
       "330  however of course you know that it is such det...   \n",
       "331  just try again tomorrow tomorrow will be a big...   \n",
       "\n",
       "                                  transcription_human2  \n",
       "0    <unknown> that 1 new case of the virus were re...  \n",
       "1    okay doctor um what are the other dangers that...  \n",
       "2    a color outbreak is killed about 20 residents ...  \n",
       "3    <unknown> 5 that is concerned uh we take a loo...  \n",
       "4    then the caucus of the anc then meets and deci...  \n",
       "..                                                 ...  \n",
       "326  what <unknown> justice a brand new <unknown> c...  \n",
       "327  several miners died after sneaking into the ol...  \n",
       "329  lets get it this friday morning at 2 minutes p...  \n",
       "330  however off cause you know that it is detrimen...  \n",
       "331  just try again tomorrow tomorrow will be a bet...  \n",
       "\n",
       "[221 rows x 5 columns]"
      ]
     },
     "execution_count": 28,
     "metadata": {},
     "output_type": "execute_result"
    }
   ],
   "source": [
    "english_clips[[\"transcription_riva\", \"transcription_deepspeech\", \"transcription_aws\",\n",
    "           \"transcription_human1\", \"transcription_human2\"]]"
   ]
  },
  {
   "cell_type": "markdown",
   "id": "b5e7dcf2",
   "metadata": {},
   "source": [
    "# Analyze Transcriptions"
   ]
  },
  {
   "cell_type": "code",
   "execution_count": 29,
   "id": "06627ae1",
   "metadata": {},
   "outputs": [],
   "source": [
    "# https://pypi.org/project/jiwer/\n",
    "# pip install jiwer"
   ]
  },
  {
   "cell_type": "code",
   "execution_count": 30,
   "id": "c4a0371c",
   "metadata": {},
   "outputs": [],
   "source": [
    "from jiwer import wer, mer, wil\n",
    "\n",
    "def calc_wer(row, t1, t2):\n",
    "    if len(row[t1]) and len(row[t2]) > 0:\n",
    "        return wer(row[t1], row[t2])\n",
    "    \n",
    "def calc_mer(row, t1, t2):\n",
    "    if len(row[t1]) and len(row[t2]) > 0:\n",
    "        return mer(row[t1], row[t2])\n",
    "    \n",
    "def calc_wil(row, t1, t2):\n",
    "    if len(row[t1]) and len(row[t2]) > 0:\n",
    "        return wil(row[t1], row[t2])"
   ]
  },
  {
   "cell_type": "markdown",
   "id": "c41fe5a0",
   "metadata": {
    "heading_collapsed": true
   },
   "source": [
    "## Cohen Kappa agreement"
   ]
  },
  {
   "cell_type": "code",
   "execution_count": 25,
   "id": "f353f054",
   "metadata": {
    "hidden": true
   },
   "outputs": [],
   "source": [
    "# Can do additional stuff on annotator agreement for gender, transcription, audio quality, etc...\n",
    "# Calculating only on those that are not null for BOTH transcriptors"
   ]
  },
  {
   "cell_type": "code",
   "execution_count": 26,
   "id": "dfed45c1",
   "metadata": {
    "hidden": true
   },
   "outputs": [],
   "source": [
    "from sklearn.metrics import cohen_kappa_score"
   ]
  },
  {
   "cell_type": "code",
   "execution_count": 27,
   "id": "2be34669",
   "metadata": {
    "hidden": true
   },
   "outputs": [
    {
     "data": {
      "text/plain": [
       "0.8651448639157155"
      ]
     },
     "execution_count": 27,
     "metadata": {},
     "output_type": "execute_result"
    }
   ],
   "source": [
    "humans_gender_not_null = human_seg_df[(human_seg_df.gender_2.notnull()) & (human_seg_df.gender_1.notnull())]\n",
    "cohen_kappa_score(humans_gender_not_null[\"gender_1\"], humans_gender_not_null[\"gender_2\"])"
   ]
  },
  {
   "cell_type": "code",
   "execution_count": 28,
   "id": "18633686",
   "metadata": {
    "hidden": true
   },
   "outputs": [
    {
     "data": {
      "text/plain": [
       "0.16802892764322575"
      ]
     },
     "execution_count": 28,
     "metadata": {},
     "output_type": "execute_result"
    }
   ],
   "source": [
    "humans_quality_not_null = human_seg_df[(human_seg_df.audio_quality_1.notnull()) & (human_seg_df.audio_quality_2.notnull())]\n",
    "cohen_kappa_score(humans_quality_not_null[\"audio_quality_1\"], humans_quality_not_null[\"audio_quality_2\"])\n"
   ]
  },
  {
   "cell_type": "code",
   "execution_count": 29,
   "id": "e425e68b",
   "metadata": {
    "hidden": true
   },
   "outputs": [
    {
     "data": {
      "text/plain": [
       "0.8749937258445013"
      ]
     },
     "execution_count": 29,
     "metadata": {},
     "output_type": "execute_result"
    }
   ],
   "source": [
    "humans_lang_not_null = human_seg_df[(human_seg_df.audio_language_1.notnull()) & (human_seg_df.audio_language_2.notnull())]\n",
    "cohen_kappa_score(humans_lang_not_null[\"audio_language_1\"], humans_lang_not_null[\"audio_language_2\"])\n"
   ]
  },
  {
   "cell_type": "markdown",
   "id": "6786d20b",
   "metadata": {},
   "source": [
    "## Inter-Annotator WER scores"
   ]
  },
  {
   "cell_type": "markdown",
   "id": "f69e9df9",
   "metadata": {},
   "source": [
    "**TO DO** for the inter annotator agreement cross-checking\n",
    "* Before submitting transcriptions as ground truth, let's first compare the two annotator transcriptions\n",
    "* Plot a histogram of agreement scores\n",
    "* Select the ones that pass a threshold of agreement scores\n",
    "\n",
    "Once this then I can do what I am doing afterwards of comparing the AWS/RIVA/DS for each of the transcriptions"
   ]
  },
  {
   "cell_type": "code",
   "execution_count": 31,
   "id": "f889c424",
   "metadata": {},
   "outputs": [
    {
     "name": "stderr",
     "output_type": "stream",
     "text": [
      "<ipython-input-31-76104bb44861>:1: SettingWithCopyWarning: \n",
      "A value is trying to be set on a copy of a slice from a DataFrame.\n",
      "Try using .loc[row_indexer,col_indexer] = value instead\n",
      "\n",
      "See the caveats in the documentation: https://pandas.pydata.org/pandas-docs/stable/user_guide/indexing.html#returning-a-view-versus-a-copy\n",
      "  english_clips[\"inter_annotator_wer\"] = english_clips.apply(calc_wer, args=(\"transcription_human1\", \"transcription_human2\"), axis=1)\n"
     ]
    },
    {
     "data": {
      "text/plain": [
       "0.5714285714285714"
      ]
     },
     "execution_count": 31,
     "metadata": {},
     "output_type": "execute_result"
    }
   ],
   "source": [
    "english_clips[\"inter_annotator_wer\"] = english_clips.apply(calc_wer, args=(\"transcription_human1\", \"transcription_human2\"), axis=1)\n",
    "\n",
    "# Calculate the 90th quantile\n",
    "english_clips[\"inter_annotator_wer\"].quantile(0.9)"
   ]
  },
  {
   "cell_type": "code",
   "execution_count": 34,
   "id": "355fb12b",
   "metadata": {
    "scrolled": true
   },
   "outputs": [
    {
     "data": {
      "image/png": "[encoded data removed]",
      "text/plain": [
       "<Figure size 576x360 with 1 Axes>"
      ]
     },
     "metadata": {
      "needs_background": "light"
     },
     "output_type": "display_data"
    }
   ],
   "source": [
    "plt.figure(figsize=(8,5))\n",
    "\n",
    "wer_describe = english_clips[\"inter_annotator_wer\"].describe()\n",
    "\n",
    "sns.histplot(english_clips[\"inter_annotator_wer\"].values, bins=50)\n",
    "plt.axvline(wer_describe[\"25%\"], color='gray')\n",
    "plt.text(wer_describe[\"25%\"]-0.05, 17, '25%')\n",
    "plt.axvline(wer_describe[\"50%\"], color='gray')\n",
    "plt.text(wer_describe[\"50%\"], 17, '50%')\n",
    "plt.axvline(wer_describe[\"75%\"], color='gray')\n",
    "plt.text(wer_describe[\"75%\"]+0.01, 17, '75%')\n",
    "\n",
    "plt.axvline(english_clips[\"inter_annotator_wer\"].quantile(0.9), color='gray')\n",
    "plt.text(english_clips[\"inter_annotator_wer\"].quantile(0.9)+0.01, 17, '90%')\n",
    "\n",
    "plt.title('Inter-annotator WER scores')\n",
    "plt.show()"
   ]
  },
  {
   "cell_type": "code",
   "execution_count": 35,
   "id": "1a279ac9",
   "metadata": {},
   "outputs": [
    {
     "data": {
      "text/plain": [
       "(0.5714285714285714, 221, 21)"
      ]
     },
     "execution_count": 35,
     "metadata": {},
     "output_type": "execute_result"
    }
   ],
   "source": [
    "ninety_quantile = english_clips[\"inter_annotator_wer\"].quantile(0.9)\n",
    "ninety_quantile, len(english_clips), len(english_clips[english_clips[\"inter_annotator_wer\"] > ninety_quantile])\n",
    "\n"
   ]
  },
  {
   "cell_type": "code",
   "execution_count": 36,
   "id": "270b47c4",
   "metadata": {},
   "outputs": [
    {
     "data": {
      "text/plain": [
       "(21, 200)"
      ]
     },
     "execution_count": 36,
     "metadata": {},
     "output_type": "execute_result"
    }
   ],
   "source": [
    "len(english_clips[english_clips[\"inter_annotator_wer\"] > ninety_quantile]), \\\n",
    "len(english_clips[english_clips[\"inter_annotator_wer\"] <= ninety_quantile])\n"
   ]
  },
  {
   "cell_type": "code",
   "execution_count": 37,
   "id": "ce54ffbe",
   "metadata": {},
   "outputs": [
    {
     "name": "stdout",
     "output_type": "stream",
     "text": [
      "200\n"
     ]
    }
   ],
   "source": [
    "# Only keep clips were inter-annotator WER is within the 90th quantile\n",
    "# Discard rows with inter-annotator agreement higher than certain threshold\n",
    "english_clips = english_clips[english_clips[\"inter_annotator_wer\"] <= ninety_quantile]\n",
    "print(len(english_clips))"
   ]
  },
  {
   "cell_type": "markdown",
   "id": "cc3df893",
   "metadata": {},
   "source": [
    "**TODO**: Need to discard the rows of human transcriptions that have inter-annotator agreement higher than a certain threshold"
   ]
  },
  {
   "cell_type": "code",
   "execution_count": 39,
   "id": "398ad581",
   "metadata": {},
   "outputs": [
    {
     "data": {
      "text/plain": [
       "Nigeria         63\n",
       "South Africa    63\n",
       "Namibia         57\n",
       "Kenya           17\n",
       "Name: country, dtype: int64"
      ]
     },
     "execution_count": 39,
     "metadata": {},
     "output_type": "execute_result"
    }
   ],
   "source": [
    "english_clips.country.value_counts()"
   ]
  },
  {
   "cell_type": "code",
   "execution_count": 38,
   "id": "059c7256",
   "metadata": {},
   "outputs": [],
   "source": [
    "english_clips.to_csv('data/english_clips_transcriptions.csv', index=False)"
   ]
  },
  {
   "cell_type": "markdown",
   "id": "6bfa11ea",
   "metadata": {},
   "source": [
    "## WER Scores for ASRs"
   ]
  },
  {
   "cell_type": "markdown",
   "id": "d7cdbbee",
   "metadata": {},
   "source": [
    "In this case, we are comparing everything against `human1` as the ground truth. "
   ]
  },
  {
   "cell_type": "markdown",
   "id": "6b0c4b10",
   "metadata": {},
   "source": [
    "#### WER - lower is better, 1 is bad"
   ]
  },
  {
   "cell_type": "code",
   "execution_count": 40,
   "id": "71f15fb8",
   "metadata": {},
   "outputs": [],
   "source": [
    "# for func_name, func in zip([\"wer\", \"mer\", \"wil\"], [calc_wer, calc_mer, calc_wil]):\n",
    "#     for i, ground_truth in enumerate([\"transcription_human1\", \"transcription_human2\"]):\n",
    "#         english_clips[f\"riva_{i+1}_{func_name}\"] = english_clips.apply(func, args=(ground_truth, \"transcription_riva\"), axis=1)\n",
    "#         english_clips[f\"ds_{i+1}_{func_name}\"] = english_clips.apply(func, args=(ground_truth, \"transcription_deepspeech\"), axis=1)\n",
    "#         english_clips[f\"aws_{i+1}_{func_name}\"] = english_clips.apply(func, args=(ground_truth, \"transcription_aws\"), axis=1)\n",
    "\n",
    "for func_name, func in zip([\"wer\", \"mer\", \"wil\"], [calc_wer, calc_mer, calc_wil]):\n",
    "    ground_truth = \"transcription_human1\"\n",
    "    english_clips[f\"riva_{func_name}\"] = english_clips.apply(func, args=(ground_truth, \"transcription_riva\"), axis=1)\n",
    "    english_clips[f\"ds_{func_name}\"] = english_clips.apply(func, args=(ground_truth, \"transcription_deepspeech\"), axis=1)\n",
    "    english_clips[f\"aws_{func_name}\"] = english_clips.apply(func, args=(ground_truth, \"transcription_aws\"), axis=1)\n",
    "    english_clips[f\"human2_{func_name}\"] = english_clips.apply(func, args=(ground_truth, \"transcription_human2\"), axis=1)\n",
    "\n",
    "\n",
    "        "
   ]
  },
  {
   "cell_type": "code",
   "execution_count": 41,
   "id": "d05672ab",
   "metadata": {
    "scrolled": true
   },
   "outputs": [
    {
     "data": {
      "text/plain": [
       "riva_wer      0.286578\n",
       "ds_wer        0.554533\n",
       "aws_wer       0.258148\n",
       "human2_wer    0.269570\n",
       "dtype: float64"
      ]
     },
     "execution_count": 41,
     "metadata": {},
     "output_type": "execute_result"
    }
   ],
   "source": [
    "english_clips[[\"riva_wer\", \"ds_wer\", \"aws_wer\", \"human2_wer\"]].mean(axis=0)"
   ]
  },
  {
   "cell_type": "code",
   "execution_count": 146,
   "id": "65a001bd",
   "metadata": {},
   "outputs": [
    {
     "data": {
      "image/png": "[encoded data removed]",
      "text/plain": [
       "<Figure size 576x360 with 1 Axes>"
      ]
     },
     "metadata": {
      "needs_background": "light"
     },
     "output_type": "display_data"
    }
   ],
   "source": [
    "plt.figure(figsize=(8,5))\n",
    "\n",
    "data = english_clips[[ \"ds_wer\", \"riva_wer\",\"aws_wer\", \"human2_wer\"]]\n",
    "data.columns = [\"DeepSpeech\", \"Riva\", \"AWS\", \"Human2\"]\n",
    "data = data.melt(value_vars = [\"DeepSpeech\", \"Riva\", \"AWS\", \"Human2\"])\n",
    "data.columns=[\"Model\", \"WER\"]\n",
    "\n",
    "ax = sns.boxplot(data=data, y='Model', x='WER')\n",
    "# plt.title('Word Error Rate (WER) Distribution', size=16)\n",
    "plt.ylabel('')\n",
    "plt.xlabel('WER', size=18)\n",
    "plt.xticks(size=15)\n",
    "plt.yticks(ticks=[0,1,2,3], \n",
    "           labels=['Mozilla\\nDeepSpeech', 'NVIDIA\\nRiva', 'Amazon\\nTranscribe', 'Human'],\n",
    "           size=18\n",
    "          )\n",
    "\n",
    "# Remove spines\n",
    "sns.despine(top=True, right=True)\n",
    "# Remove all of the extra tick marks\n",
    "ax.minorticks_off()\n",
    "ax.tick_params(top=False, right=False)\n",
    "# Remove the ticks on the y axis\n",
    "plt.tick_params(left = False)\n",
    "\n",
    "plt.xlim(0,3)\n",
    "\n",
    "# plt.show()\n",
    "plt.savefig('img/WER_distribution.pdf', bbox_inches='tight') \n",
    "plt.savefig('img/WER_distribution.png', bbox_inches='tight') \n"
   ]
  },
  {
   "cell_type": "code",
   "execution_count": 53,
   "id": "58581417",
   "metadata": {},
   "outputs": [
    {
     "data": {
      "image/png": "[encoded data removed]",
      "text/plain": [
       "<Figure size 576x288 with 1 Axes>"
      ]
     },
     "metadata": {
      "needs_background": "light"
     },
     "output_type": "display_data"
    }
   ],
   "source": [
    "# THIS IS FOR THE BLOG POST ONLY\n",
    "plt.figure(figsize=(8,4))\n",
    "\n",
    "data = english_clips[[ \"ds_wer\", \"riva_wer\",\"aws_wer\", \"human2_wer\"]]\n",
    "data.columns = [\"DeepSpeech\", \"Riva\", \"AWS\", \"Human2\"]\n",
    "data = data.melt(value_vars = [\"DeepSpeech\", \"Riva\", \"AWS\", \"Human2\"])\n",
    "data.columns=[\"Model\", \"WER\"]\n",
    "\n",
    "# REMOVING OUTLIERS\n",
    "data = data[data.WER < 2]\n",
    "\n",
    "ax = sns.boxplot(data=data, y='Model', x='WER')\n",
    "# plt.title('Word Error Rate (WER) Distribution', size=16)\n",
    "plt.ylabel('')\n",
    "plt.xlabel('WER', size=18)\n",
    "plt.xticks(size=15)\n",
    "plt.yticks(ticks=[0,1,2,3], \n",
    "           labels=['Model 1', 'Model 2', 'Model 3', 'Human'],\n",
    "           size=18\n",
    "          )\n",
    "\n",
    "# Remove spines\n",
    "sns.despine(top=True, right=True, left=True)\n",
    "# Remove all of the extra tick marks\n",
    "ax.minorticks_off()\n",
    "ax.tick_params(top=False, right=False)\n",
    "# Remove the ticks on the y axis\n",
    "plt.tick_params(left = False)\n",
    "\n",
    "# plt.show()\n",
    "# plt.savefig('img/blogpost_WER_distribution_anon.pdf', bbox_inches='tight') \n",
    "plt.savefig('img/blogpost_WER_distribution_anon.png', bbox_inches='tight') \n"
   ]
  },
  {
   "cell_type": "code",
   "execution_count": null,
   "id": "ccb8611d",
   "metadata": {},
   "outputs": [],
   "source": []
  },
  {
   "cell_type": "code",
   "execution_count": null,
   "id": "dbe0e2b0",
   "metadata": {},
   "outputs": [],
   "source": []
  },
  {
   "cell_type": "code",
   "execution_count": null,
   "id": "ac1f2f11",
   "metadata": {},
   "outputs": [],
   "source": []
  },
  {
   "cell_type": "code",
   "execution_count": null,
   "id": "9bfc4492",
   "metadata": {},
   "outputs": [],
   "source": []
  },
  {
   "cell_type": "code",
   "execution_count": 144,
   "id": "c768db7e",
   "metadata": {
    "scrolled": true
   },
   "outputs": [
    {
     "data": {
      "text/html": [
       "<div>\n",
       "<style scoped>\n",
       "    .dataframe tbody tr th:only-of-type {\n",
       "        vertical-align: middle;\n",
       "    }\n",
       "\n",
       "    .dataframe tbody tr th {\n",
       "        vertical-align: top;\n",
       "    }\n",
       "\n",
       "    .dataframe thead th {\n",
       "        text-align: right;\n",
       "    }\n",
       "</style>\n",
       "<table border=\"1\" class=\"dataframe\">\n",
       "  <thead>\n",
       "    <tr style=\"text-align: right;\">\n",
       "      <th></th>\n",
       "      <th>riva_wer</th>\n",
       "      <th>ds_wer</th>\n",
       "      <th>aws_wer</th>\n",
       "      <th>human2_wer</th>\n",
       "    </tr>\n",
       "  </thead>\n",
       "  <tbody>\n",
       "    <tr>\n",
       "      <th>count</th>\n",
       "      <td>200.000000</td>\n",
       "      <td>199.000000</td>\n",
       "      <td>200.000000</td>\n",
       "      <td>200.000000</td>\n",
       "    </tr>\n",
       "    <tr>\n",
       "      <th>mean</th>\n",
       "      <td>0.286578</td>\n",
       "      <td>0.554533</td>\n",
       "      <td>0.258148</td>\n",
       "      <td>0.269570</td>\n",
       "    </tr>\n",
       "    <tr>\n",
       "      <th>std</th>\n",
       "      <td>0.165468</td>\n",
       "      <td>0.284887</td>\n",
       "      <td>0.151245</td>\n",
       "      <td>0.138670</td>\n",
       "    </tr>\n",
       "    <tr>\n",
       "      <th>min</th>\n",
       "      <td>0.000000</td>\n",
       "      <td>0.096774</td>\n",
       "      <td>0.000000</td>\n",
       "      <td>0.000000</td>\n",
       "    </tr>\n",
       "    <tr>\n",
       "      <th>25%</th>\n",
       "      <td>0.160000</td>\n",
       "      <td>0.375000</td>\n",
       "      <td>0.156250</td>\n",
       "      <td>0.165541</td>\n",
       "    </tr>\n",
       "    <tr>\n",
       "      <th>50%</th>\n",
       "      <td>0.260870</td>\n",
       "      <td>0.521739</td>\n",
       "      <td>0.245000</td>\n",
       "      <td>0.264912</td>\n",
       "    </tr>\n",
       "    <tr>\n",
       "      <th>75%</th>\n",
       "      <td>0.397170</td>\n",
       "      <td>0.666667</td>\n",
       "      <td>0.343054</td>\n",
       "      <td>0.371083</td>\n",
       "    </tr>\n",
       "    <tr>\n",
       "      <th>max</th>\n",
       "      <td>0.923077</td>\n",
       "      <td>2.750000</td>\n",
       "      <td>0.785714</td>\n",
       "      <td>0.571429</td>\n",
       "    </tr>\n",
       "  </tbody>\n",
       "</table>\n",
       "</div>"
      ],
      "text/plain": [
       "         riva_wer      ds_wer     aws_wer  human2_wer\n",
       "count  200.000000  199.000000  200.000000  200.000000\n",
       "mean     0.286578    0.554533    0.258148    0.269570\n",
       "std      0.165468    0.284887    0.151245    0.138670\n",
       "min      0.000000    0.096774    0.000000    0.000000\n",
       "25%      0.160000    0.375000    0.156250    0.165541\n",
       "50%      0.260870    0.521739    0.245000    0.264912\n",
       "75%      0.397170    0.666667    0.343054    0.371083\n",
       "max      0.923077    2.750000    0.785714    0.571429"
      ]
     },
     "execution_count": 144,
     "metadata": {},
     "output_type": "execute_result"
    }
   ],
   "source": [
    "english_clips[[\"riva_wer\", \"ds_wer\", \"aws_wer\", \"human2_wer\"]].describe()"
   ]
  },
  {
   "cell_type": "code",
   "execution_count": null,
   "id": "1c3f58fa",
   "metadata": {},
   "outputs": [],
   "source": []
  },
  {
   "cell_type": "code",
   "execution_count": null,
   "id": "7b9a7d23",
   "metadata": {},
   "outputs": [],
   "source": []
  },
  {
   "cell_type": "markdown",
   "id": "3fc9c9db",
   "metadata": {},
   "source": [
    "## ASRs Accuracy on COVID words\n",
    "There may be a lot of empty strings bc a lot of these are not actually about covid\n",
    "\n",
    "This may not actually be worth it and maybe WER is fine"
   ]
  },
  {
   "cell_type": "code",
   "execution_count": 149,
   "id": "e1a176ab",
   "metadata": {},
   "outputs": [],
   "source": [
    "t_cols = [\"transcription_human1\", \"transcription_human2\", \n",
    "          \"transcription_riva\", \"transcription_aws\", \"transcription_deepspeech\", ]\n",
    "\n",
    "covid_words = [\"covid\", \"corona\", \"vaccine\", \"vaccination\", \"pandemic\", \"quarantine\", \"virus\", \"disease\",\n",
    "               \"clot\", \"infect\"\n",
    "              ]\n",
    "\n",
    "# Less interesting words: \"side effect\", \"delta\", \"variant\""
   ]
  },
  {
   "cell_type": "code",
   "execution_count": 180,
   "id": "571a3a89",
   "metadata": {},
   "outputs": [],
   "source": [
    "covid_word_counts = []\n",
    "for w in covid_words:\n",
    "    # a subset of if human1 found the word \n",
    "    subset = english_clips[english_clips[\"transcription_human1\"].str.contains(w)][t_cols]\n",
    "\n",
    "    for t in t_cols:\n",
    "        covid_word_counts.append({\n",
    "            \"word\": w,\n",
    "            \"model\": t.split(\"_\")[1],\n",
    "            \"count\": subset[t].str.count(w).sum()\n",
    "        })\n",
    "    "
   ]
  },
  {
   "cell_type": "code",
   "execution_count": 181,
   "id": "1ce1958e",
   "metadata": {},
   "outputs": [],
   "source": [
    "covid_word_counts_df = pd.DataFrame(covid_word_counts)\n"
   ]
  },
  {
   "cell_type": "code",
   "execution_count": 152,
   "id": "2307b8b3",
   "metadata": {
    "scrolled": false
   },
   "outputs": [
    {
     "data": {
      "image/png": "[encoded data removed]",
      "text/plain": [
       "<Figure size 936x504 with 1 Axes>"
      ]
     },
     "metadata": {
      "needs_background": "light"
     },
     "output_type": "display_data"
    }
   ],
   "source": [
    "plt.figure(figsize=(13,7))\n",
    "sns.barplot(data=covid_word_counts_df, x='word', y='count', hue='model')\n",
    "plt.xticks(size=14)\n",
    "plt.xlabel('')\n",
    "plt.ylabel('Count', size=14)\n",
    "plt.title('Number of times COVID word is detected in each model', size=16)\n",
    "plt.show()"
   ]
  },
  {
   "cell_type": "code",
   "execution_count": 183,
   "id": "ee619349",
   "metadata": {},
   "outputs": [],
   "source": [
    "covid_word_counts_pivot = covid_word_counts_df.pivot(index='word', columns='model', values='count')\n",
    "covid_word_counts_pivot.columns.name = None\n",
    "\n",
    "ground_truth = covid_word_counts_pivot[\"human1\"].values\n",
    "covid_word_counts_pivot = covid_word_counts_pivot[[\"deepspeech\", \"riva\", \"aws\", \"human2\"]]"
   ]
  },
  {
   "cell_type": "code",
   "execution_count": 184,
   "id": "7857be2d",
   "metadata": {
    "scrolled": true
   },
   "outputs": [
    {
     "data": {
      "text/html": [
       "<div>\n",
       "<style scoped>\n",
       "    .dataframe tbody tr th:only-of-type {\n",
       "        vertical-align: middle;\n",
       "    }\n",
       "\n",
       "    .dataframe tbody tr th {\n",
       "        vertical-align: top;\n",
       "    }\n",
       "\n",
       "    .dataframe thead th {\n",
       "        text-align: right;\n",
       "    }\n",
       "</style>\n",
       "<table border=\"1\" class=\"dataframe\">\n",
       "  <thead>\n",
       "    <tr style=\"text-align: right;\">\n",
       "      <th>word</th>\n",
       "      <th>clot</th>\n",
       "      <th>corona</th>\n",
       "      <th>covid</th>\n",
       "      <th>disease</th>\n",
       "      <th>infect</th>\n",
       "      <th>pandemic</th>\n",
       "      <th>quarantine</th>\n",
       "      <th>vaccination</th>\n",
       "      <th>vaccine</th>\n",
       "      <th>virus</th>\n",
       "    </tr>\n",
       "  </thead>\n",
       "  <tbody>\n",
       "    <tr>\n",
       "      <th>deepspeech</th>\n",
       "      <td>0.0</td>\n",
       "      <td>0.285714</td>\n",
       "      <td>0.000000</td>\n",
       "      <td>0.333333</td>\n",
       "      <td>1.0</td>\n",
       "      <td>0.0</td>\n",
       "      <td>0.0</td>\n",
       "      <td>0.6</td>\n",
       "      <td>0.391304</td>\n",
       "      <td>0.571429</td>\n",
       "    </tr>\n",
       "    <tr>\n",
       "      <th>riva</th>\n",
       "      <td>0.0</td>\n",
       "      <td>1.000000</td>\n",
       "      <td>0.807692</td>\n",
       "      <td>1.000000</td>\n",
       "      <td>1.0</td>\n",
       "      <td>1.0</td>\n",
       "      <td>1.0</td>\n",
       "      <td>1.0</td>\n",
       "      <td>0.956522</td>\n",
       "      <td>1.000000</td>\n",
       "    </tr>\n",
       "    <tr>\n",
       "      <th>aws</th>\n",
       "      <td>1.0</td>\n",
       "      <td>1.000000</td>\n",
       "      <td>0.961538</td>\n",
       "      <td>1.000000</td>\n",
       "      <td>1.0</td>\n",
       "      <td>1.0</td>\n",
       "      <td>1.0</td>\n",
       "      <td>1.0</td>\n",
       "      <td>0.956522</td>\n",
       "      <td>1.000000</td>\n",
       "    </tr>\n",
       "    <tr>\n",
       "      <th>human2</th>\n",
       "      <td>1.0</td>\n",
       "      <td>1.000000</td>\n",
       "      <td>0.961538</td>\n",
       "      <td>1.000000</td>\n",
       "      <td>1.0</td>\n",
       "      <td>1.0</td>\n",
       "      <td>1.0</td>\n",
       "      <td>1.0</td>\n",
       "      <td>1.000000</td>\n",
       "      <td>1.000000</td>\n",
       "    </tr>\n",
       "  </tbody>\n",
       "</table>\n",
       "</div>"
      ],
      "text/plain": [
       "word        clot    corona     covid   disease  infect  pandemic  quarantine  \\\n",
       "deepspeech   0.0  0.285714  0.000000  0.333333     1.0       0.0         0.0   \n",
       "riva         0.0  1.000000  0.807692  1.000000     1.0       1.0         1.0   \n",
       "aws          1.0  1.000000  0.961538  1.000000     1.0       1.0         1.0   \n",
       "human2       1.0  1.000000  0.961538  1.000000     1.0       1.0         1.0   \n",
       "\n",
       "word        vaccination   vaccine     virus  \n",
       "deepspeech          0.6  0.391304  0.571429  \n",
       "riva                1.0  0.956522  1.000000  \n",
       "aws                 1.0  0.956522  1.000000  \n",
       "human2              1.0  1.000000  1.000000  "
      ]
     },
     "execution_count": 184,
     "metadata": {},
     "output_type": "execute_result"
    }
   ],
   "source": [
    "covid_word_counts_pivot.apply(lambda x: x/ground_truth).T"
   ]
  },
  {
   "cell_type": "code",
   "execution_count": 155,
   "id": "8fbcb70b",
   "metadata": {},
   "outputs": [],
   "source": [
    "data = covid_word_counts_pivot.apply(lambda x: x/ground_truth).T"
   ]
  },
  {
   "cell_type": "code",
   "execution_count": 156,
   "id": "71e7105e",
   "metadata": {},
   "outputs": [
    {
     "data": {
      "text/html": [
       "<table border=\"1\" class=\"dataframe\">\n",
       "  <thead>\n",
       "    <tr style=\"text-align: right;\">\n",
       "      <th>word</th>\n",
       "      <th>clot</th>\n",
       "      <th>corona</th>\n",
       "      <th>covid</th>\n",
       "      <th>disease</th>\n",
       "      <th>infect</th>\n",
       "      <th>pandemic</th>\n",
       "      <th>quarantine</th>\n",
       "      <th>vaccination</th>\n",
       "      <th>vaccine</th>\n",
       "      <th>virus</th>\n",
       "    </tr>\n",
       "  </thead>\n",
       "  <tbody>\n",
       "    <tr>\n",
       "      <th>deepspeech</th>\n",
       "      <td>0.00%</td>\n",
       "      <td>28.57%</td>\n",
       "      <td>0.00%</td>\n",
       "      <td>33.33%</td>\n",
       "      <td>100.00%</td>\n",
       "      <td>0.00%</td>\n",
       "      <td>0.00%</td>\n",
       "      <td>60.00%</td>\n",
       "      <td>39.13%</td>\n",
       "      <td>57.14%</td>\n",
       "    </tr>\n",
       "    <tr>\n",
       "      <th>riva</th>\n",
       "      <td>0.00%</td>\n",
       "      <td>100.00%</td>\n",
       "      <td>80.77%</td>\n",
       "      <td>100.00%</td>\n",
       "      <td>100.00%</td>\n",
       "      <td>100.00%</td>\n",
       "      <td>100.00%</td>\n",
       "      <td>100.00%</td>\n",
       "      <td>95.65%</td>\n",
       "      <td>100.00%</td>\n",
       "    </tr>\n",
       "    <tr>\n",
       "      <th>aws</th>\n",
       "      <td>100.00%</td>\n",
       "      <td>100.00%</td>\n",
       "      <td>96.15%</td>\n",
       "      <td>100.00%</td>\n",
       "      <td>100.00%</td>\n",
       "      <td>100.00%</td>\n",
       "      <td>100.00%</td>\n",
       "      <td>100.00%</td>\n",
       "      <td>95.65%</td>\n",
       "      <td>100.00%</td>\n",
       "    </tr>\n",
       "    <tr>\n",
       "      <th>human2</th>\n",
       "      <td>100.00%</td>\n",
       "      <td>100.00%</td>\n",
       "      <td>96.15%</td>\n",
       "      <td>100.00%</td>\n",
       "      <td>100.00%</td>\n",
       "      <td>100.00%</td>\n",
       "      <td>100.00%</td>\n",
       "      <td>100.00%</td>\n",
       "      <td>100.00%</td>\n",
       "      <td>100.00%</td>\n",
       "    </tr>\n",
       "  </tbody>\n",
       "</table>"
      ],
      "text/plain": [
       "<IPython.core.display.HTML object>"
      ]
     },
     "metadata": {},
     "output_type": "display_data"
    }
   ],
   "source": [
    "from IPython.core.display import display, HTML\n",
    "output = data.to_html(formatters={\n",
    "    'clot': '{:,.2%}'.format,\n",
    "    'corona': '{:,.2%}'.format,\n",
    "    'covid': '{:,.2%}'.format,\n",
    "    'disease': '{:,.2%}'.format,\n",
    "    'infect': '{:,.2%}'.format,\n",
    "    'pandemic': '{:,.2%}'.format,\n",
    "    'quarantine': '{:,.2%}'.format,\n",
    "    'vaccination': '{:,.2%}'.format,\n",
    "    'vaccine': '{:,.2%}'.format,\n",
    "    'virus': '{:,.2%}'.format,\n",
    "})\n",
    "display(HTML(output))"
   ]
  },
  {
   "cell_type": "code",
   "execution_count": 157,
   "id": "6a25a490",
   "metadata": {
    "scrolled": false
   },
   "outputs": [
    {
     "data": {
      "image/png": "[encoded data removed]",
      "text/plain": [
       "<Figure size 720x432 with 1 Axes>"
      ]
     },
     "metadata": {
      "needs_background": "light"
     },
     "output_type": "display_data"
    }
   ],
   "source": [
    "plt.figure(figsize=(10,6))\n",
    "ax = sns.heatmap(data, annot=True, fmt=\".2%\", square=1, linewidth=1., cbar=False)\n",
    "plt.show()"
   ]
  },
  {
   "cell_type": "code",
   "execution_count": null,
   "id": "1f290507",
   "metadata": {},
   "outputs": [],
   "source": []
  }
 ],
 "metadata": {
  "kernelspec": {
   "display_name": "Python 3",
   "language": "python",
   "name": "python3"
  },
  "language_info": {
   "codemirror_mode": {
    "name": "ipython",
    "version": 3
   },
   "file_extension": ".py",
   "mimetype": "text/x-python",
   "name": "python",
   "nbconvert_exporter": "python",
   "pygments_lexer": "ipython3",
   "version": "3.9.2"
  }
 },
 "nbformat": 4,
 "nbformat_minor": 5
}
