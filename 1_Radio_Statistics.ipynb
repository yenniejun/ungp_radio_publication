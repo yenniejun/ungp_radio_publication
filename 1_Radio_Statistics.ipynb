{
 "cells": [
  {
   "cell_type": "markdown",
   "id": "a6e8cc00",
   "metadata": {},
   "source": [
    "# Radio statistics"
   ]
  },
  {
   "cell_type": "markdown",
   "id": "812ab250",
   "metadata": {},
   "source": [
    "This notebook outlines basic statistics related to the radio stations being ingested by the entire radio pipeline."
   ]
  },
  {
   "cell_type": "code",
   "execution_count": 10,
   "id": "4234f077",
   "metadata": {},
   "outputs": [],
   "source": [
    "import datetime\n",
    "import pytz\n",
    "from pytz import timezone\n",
    "import pandas as pd\n",
    "import re\n",
    "\n",
    "import matplotlib.pyplot as plt\n",
    "plt.style.reload_library()\n",
    "plt.style.use('science')\n",
    "\n",
    "# Set color palette to ORCA palette\n",
    "import matplotlib as mpl\n",
    "from cycler import cycler\n",
    "mpl.rcParams['axes.prop_cycle'] = cycler(color=['#68829D', '#329B8A', '#D24437', '#F5B100', '#62ABB9', '#A3B100'])"
   ]
  },
  {
   "cell_type": "markdown",
   "id": "48ccd95e",
   "metadata": {},
   "source": [
    "## Read in data, convert time zones"
   ]
  },
  {
   "cell_type": "code",
   "execution_count": 3,
   "id": "08cb0a96",
   "metadata": {},
   "outputs": [],
   "source": [
    "# List of all of the African countries from which we are listening to\n",
    "african_countries = ['algeria', 'benin', 'botswana', 'burkina_faso', \n",
    "                     'cameroon', 'democratic_republic_congo', \n",
    "                     'ghana', 'guinea', 'kenya', 'liberia', \n",
    "                     'madagascar', 'malawi', 'mauritius', 'namibia', 'nigeria', \n",
    "                     'republic_of_the_congo', 'rwanda', 'senegal', 'sierra_leone', \n",
    "                     'south_africa', 'togo', 'uganda', 'zambia', 'zimbabwe']"
   ]
  },
  {
   "cell_type": "code",
   "execution_count": 4,
   "id": "647a2f63",
   "metadata": {
    "code_folding": []
   },
   "outputs": [],
   "source": [
    "# Map each country to its respective time zone\n",
    "country2timezone = {\n",
    "    'nigeria': 'WAT',\n",
    "    'algeria': 'WAT',\n",
    "    'benin': 'WAT',\n",
    "    'cameroon': 'WAT',\n",
    "    'republic_of_the_congo': 'WAT',\n",
    "    'democratic_republic_congo': 'WAT',\n",
    "    'ghana': 'GMT',\n",
    "    'guinea': 'GMT',\n",
    "    'burkina_faso': 'GMT',\n",
    "    'liberia': 'GMT',\n",
    "    'sierra_leone': 'GMT',\n",
    "    'senegal': 'GMT',\n",
    "    'togo': 'GMT',\n",
    "    'south_africa': 'SAST',\n",
    "    'botswana': 'CAT',\n",
    "    'malawi': 'CAT',\n",
    "    'namibia': 'CAT',\n",
    "    'rwanda': 'CAT',\n",
    "    'zimbabwe': 'CAT',\n",
    "    'zambia': 'CAT',\n",
    "    'kenya': 'EAT',\n",
    "    'madagascar': 'EAT',\n",
    "    'uganda': 'EAT',\n",
    "    'mauritius': 'MUT',\n",
    "    \n",
    "}\n",
    "\n",
    "# Map each time zone to how many hours ahead as compared to UTC\n",
    "timezone2utc = {\n",
    "    'GMT': 0,\n",
    "    'WAT': 1,\n",
    "    'SAST': 2,\n",
    "    'CAT': 2,\n",
    "    'EAT': 3,\n",
    "    'MUT': 4\n",
    "}"
   ]
  },
  {
   "cell_type": "code",
   "execution_count": 11,
   "id": "42776a92",
   "metadata": {},
   "outputs": [],
   "source": [
    "df = pd.read_csv('data/online_relevant_clips.csv')\n",
    "\n",
    "# Convert day to datetime object\n",
    "df.day = pd.to_datetime(df.day)\n",
    "\n",
    "# Just get the ones relevant for African countries\n",
    "df = df[df.country.isin(african_countries)]\n",
    "\n",
    "# Sort and order by country and date\n",
    "df.sort_values(by=[\"country\", \"location\", \"name\", \"day\"], inplace=True)\n",
    "df.reset_index(inplace=True, drop=True)\n",
    "\n",
    "# Combine \"democratic_republic_of_the_congo\" to all be \"democratic_republic_congo\"\n",
    "df.loc[df.country.str.contains('democratic_republic_of_the_congo'), \"country\"] = \"democratic_republic_congo\"\n",
    "\n",
    "# Get the full date and time as one column\n",
    "df[\"datetime\"] = df[\"clip\"].apply(lambda x: re.search('\\d\\d\\d\\d-\\d\\d-\\d\\dT\\d\\d.\\d\\d.\\d\\d', x).group(0))\n",
    "df[\"datetime\"] = df[\"datetime\"].apply(lambda x: datetime.datetime.strptime(x, \"%Y-%m-%dT%H.%M.%S\"))\n",
    "\n",
    "# Set time zones\n",
    "df[\"timezone\"] = df.country.apply(lambda x: country2timezone[x])\n",
    "# Kinshasa, Democratic Republic of the Congo --> actually in WAT\n",
    "# Whereas Bukavu and Goma are in CAT\n",
    "df.loc[df.location.str.contains('kinshasa'), \"timezone\"] = \"WAT\"\n",
    "\n",
    "# local datetime\n",
    "df[\"local_datetime\"] = df.apply(lambda x: x.datetime + datetime.timedelta(hours=timezone2utc[x.timezone]), axis=1)\n",
    "\n",
    "# Get the hour of the local datetime\n",
    "df[\"local_hour\"] = df.local_datetime.apply(lambda x: x.hour)"
   ]
  },
  {
   "cell_type": "markdown",
   "id": "ed1852b9",
   "metadata": {},
   "source": [
    "## Basic Exploration"
   ]
  },
  {
   "cell_type": "code",
   "execution_count": null,
   "id": "012d26f6",
   "metadata": {},
   "outputs": [],
   "source": [
    "len(df)"
   ]
  },
  {
   "cell_type": "code",
   "execution_count": 7,
   "id": "faead5c8",
   "metadata": {
    "scrolled": true
   },
   "outputs": [
    {
     "data": {
      "text/plain": [
       "(24, 45)"
      ]
     },
     "execution_count": 7,
     "metadata": {},
     "output_type": "execute_result"
    }
   ],
   "source": [
    "# What are the unique number of countries and stations?\n",
    "df.country.nunique(), df.location.nunique()"
   ]
  },
  {
   "cell_type": "code",
   "execution_count": 8,
   "id": "a62fae14",
   "metadata": {
    "scrolled": true
   },
   "outputs": [
    {
     "data": {
      "text/plain": [
       "array(['algeria', 'benin', 'botswana', 'burkina_faso', 'cameroon',\n",
       "       'democratic_republic_congo', 'ghana', 'guinea', 'kenya', 'liberia',\n",
       "       'madagascar', 'malawi', 'mauritius', 'namibia', 'nigeria',\n",
       "       'republic_of_the_congo', 'rwanda', 'senegal', 'sierra_leone',\n",
       "       'south_africa', 'togo', 'uganda', 'zambia', 'zimbabwe'],\n",
       "      dtype=object)"
      ]
     },
     "execution_count": 8,
     "metadata": {},
     "output_type": "execute_result"
    }
   ],
   "source": [
    "# Unique countries\n",
    "df.country.unique()"
   ]
  },
  {
   "cell_type": "code",
   "execution_count": 9,
   "id": "a84d204a",
   "metadata": {},
   "outputs": [
    {
     "data": {
      "text/plain": [
       "(Timestamp('2020-04-20 00:00:00'), Timestamp('2021-11-05 00:00:00'))"
      ]
     },
     "execution_count": 9,
     "metadata": {},
     "output_type": "execute_result"
    }
   ],
   "source": [
    "df.day.min(), df.day.max()"
   ]
  },
  {
   "cell_type": "code",
   "execution_count": 10,
   "id": "b66c59e2",
   "metadata": {},
   "outputs": [],
   "source": [
    "# What are the unique stations per country?\n",
    "unique_station_per_country = df.groupby('country')['name'].agg(['unique']).reset_index()\n",
    "unique_station_per_country.columns = [\"country\", \"unique_stations\"]\n",
    "unique_station_per_country[\"num_stations\"] = unique_station_per_country.unique_stations.apply(lambda x: len(x))"
   ]
  },
  {
   "cell_type": "code",
   "execution_count": 11,
   "id": "39508fd2",
   "metadata": {},
   "outputs": [
    {
     "data": {
      "text/html": [
       "<div>\n",
       "<style scoped>\n",
       "    .dataframe tbody tr th:only-of-type {\n",
       "        vertical-align: middle;\n",
       "    }\n",
       "\n",
       "    .dataframe tbody tr th {\n",
       "        vertical-align: top;\n",
       "    }\n",
       "\n",
       "    .dataframe thead th {\n",
       "        text-align: right;\n",
       "    }\n",
       "</style>\n",
       "<table border=\"1\" class=\"dataframe\">\n",
       "  <thead>\n",
       "    <tr style=\"text-align: right;\">\n",
       "      <th></th>\n",
       "      <th>country</th>\n",
       "      <th>unique_stations</th>\n",
       "      <th>num_stations</th>\n",
       "    </tr>\n",
       "  </thead>\n",
       "  <tbody>\n",
       "    <tr>\n",
       "      <th>8</th>\n",
       "      <td>kenya</td>\n",
       "      <td>[WestFM, RadioIsukuti, NyaluoRadio, RadioSafar...</td>\n",
       "      <td>13</td>\n",
       "    </tr>\n",
       "    <tr>\n",
       "      <th>14</th>\n",
       "      <td>nigeria</td>\n",
       "      <td>[OgunRadioFM, RootsFM, SweetFM, DunamisRadio, ...</td>\n",
       "      <td>12</td>\n",
       "    </tr>\n",
       "    <tr>\n",
       "      <th>19</th>\n",
       "      <td>south_africa</td>\n",
       "      <td>[RosestadFM, HeartFM, RadioKCFM, StereoSonderG...</td>\n",
       "      <td>9</td>\n",
       "    </tr>\n",
       "    <tr>\n",
       "      <th>7</th>\n",
       "      <td>guinea</td>\n",
       "      <td>[BonheurFM, DjomaFM, EspaceFM, FIMFM, Nostalgi...</td>\n",
       "      <td>8</td>\n",
       "    </tr>\n",
       "    <tr>\n",
       "      <th>21</th>\n",
       "      <td>uganda</td>\n",
       "      <td>[89.2, 91.9, 92.7, 94.4, 95.5, 96.3]</td>\n",
       "      <td>6</td>\n",
       "    </tr>\n",
       "    <tr>\n",
       "      <th>12</th>\n",
       "      <td>mauritius</td>\n",
       "      <td>[RadioPlus, Radio230, RadioOne, TopFM, WazaaFM]</td>\n",
       "      <td>5</td>\n",
       "    </tr>\n",
       "    <tr>\n",
       "      <th>13</th>\n",
       "      <td>namibia</td>\n",
       "      <td>[EagleFM, Kosmos, OmulungaRadio]</td>\n",
       "      <td>3</td>\n",
       "    </tr>\n",
       "    <tr>\n",
       "      <th>3</th>\n",
       "      <td>burkina_faso</td>\n",
       "      <td>[RadioLaVoixdesBale, RadioPulsar, SavaneFM]</td>\n",
       "      <td>3</td>\n",
       "    </tr>\n",
       "    <tr>\n",
       "      <th>6</th>\n",
       "      <td>ghana</td>\n",
       "      <td>[NeatFM, PeaceFM, OmanFM]</td>\n",
       "      <td>3</td>\n",
       "    </tr>\n",
       "    <tr>\n",
       "      <th>16</th>\n",
       "      <td>rwanda</td>\n",
       "      <td>[FlashFM, KTRadio, RadioRwanda]</td>\n",
       "      <td>3</td>\n",
       "    </tr>\n",
       "    <tr>\n",
       "      <th>15</th>\n",
       "      <td>republic_of_the_congo</td>\n",
       "      <td>[RADIOKATIOPA, RadioMaria, GomaWebradio]</td>\n",
       "      <td>3</td>\n",
       "    </tr>\n",
       "    <tr>\n",
       "      <th>22</th>\n",
       "      <td>zambia</td>\n",
       "      <td>[HotFM, ZNBCR1]</td>\n",
       "      <td>2</td>\n",
       "    </tr>\n",
       "    <tr>\n",
       "      <th>18</th>\n",
       "      <td>sierra_leone</td>\n",
       "      <td>[CapitalRadio, RadioDemocracy]</td>\n",
       "      <td>2</td>\n",
       "    </tr>\n",
       "    <tr>\n",
       "      <th>0</th>\n",
       "      <td>algeria</td>\n",
       "      <td>[AlgerCh3, RadioAlgeriaKoran]</td>\n",
       "      <td>2</td>\n",
       "    </tr>\n",
       "    <tr>\n",
       "      <th>1</th>\n",
       "      <td>benin</td>\n",
       "      <td>[CappFM, ORTB]</td>\n",
       "      <td>2</td>\n",
       "    </tr>\n",
       "    <tr>\n",
       "      <th>23</th>\n",
       "      <td>zimbabwe</td>\n",
       "      <td>[NehandaRadio, DiamondFM]</td>\n",
       "      <td>2</td>\n",
       "    </tr>\n",
       "    <tr>\n",
       "      <th>11</th>\n",
       "      <td>malawi</td>\n",
       "      <td>[ZodiacBroadcastingStation]</td>\n",
       "      <td>1</td>\n",
       "    </tr>\n",
       "    <tr>\n",
       "      <th>10</th>\n",
       "      <td>madagascar</td>\n",
       "      <td>[RadioRNAAntalaha]</td>\n",
       "      <td>1</td>\n",
       "    </tr>\n",
       "    <tr>\n",
       "      <th>17</th>\n",
       "      <td>senegal</td>\n",
       "      <td>[RadioFutursMedias]</td>\n",
       "      <td>1</td>\n",
       "    </tr>\n",
       "    <tr>\n",
       "      <th>9</th>\n",
       "      <td>liberia</td>\n",
       "      <td>[LiberiaBroadcastingSystem]</td>\n",
       "      <td>1</td>\n",
       "    </tr>\n",
       "    <tr>\n",
       "      <th>5</th>\n",
       "      <td>democratic_republic_congo</td>\n",
       "      <td>[TopCongoFM]</td>\n",
       "      <td>1</td>\n",
       "    </tr>\n",
       "    <tr>\n",
       "      <th>20</th>\n",
       "      <td>togo</td>\n",
       "      <td>[RadioDenigban]</td>\n",
       "      <td>1</td>\n",
       "    </tr>\n",
       "    <tr>\n",
       "      <th>4</th>\n",
       "      <td>cameroon</td>\n",
       "      <td>[EquinoxeRadio]</td>\n",
       "      <td>1</td>\n",
       "    </tr>\n",
       "    <tr>\n",
       "      <th>2</th>\n",
       "      <td>botswana</td>\n",
       "      <td>[DumaFM]</td>\n",
       "      <td>1</td>\n",
       "    </tr>\n",
       "  </tbody>\n",
       "</table>\n",
       "</div>"
      ],
      "text/plain": [
       "                      country  \\\n",
       "8                       kenya   \n",
       "14                    nigeria   \n",
       "19               south_africa   \n",
       "7                      guinea   \n",
       "21                     uganda   \n",
       "12                  mauritius   \n",
       "13                    namibia   \n",
       "3                burkina_faso   \n",
       "6                       ghana   \n",
       "16                     rwanda   \n",
       "15      republic_of_the_congo   \n",
       "22                     zambia   \n",
       "18               sierra_leone   \n",
       "0                     algeria   \n",
       "1                       benin   \n",
       "23                   zimbabwe   \n",
       "11                     malawi   \n",
       "10                 madagascar   \n",
       "17                    senegal   \n",
       "9                     liberia   \n",
       "5   democratic_republic_congo   \n",
       "20                       togo   \n",
       "4                    cameroon   \n",
       "2                    botswana   \n",
       "\n",
       "                                      unique_stations  num_stations  \n",
       "8   [WestFM, RadioIsukuti, NyaluoRadio, RadioSafar...            13  \n",
       "14  [OgunRadioFM, RootsFM, SweetFM, DunamisRadio, ...            12  \n",
       "19  [RosestadFM, HeartFM, RadioKCFM, StereoSonderG...             9  \n",
       "7   [BonheurFM, DjomaFM, EspaceFM, FIMFM, Nostalgi...             8  \n",
       "21               [89.2, 91.9, 92.7, 94.4, 95.5, 96.3]             6  \n",
       "12    [RadioPlus, Radio230, RadioOne, TopFM, WazaaFM]             5  \n",
       "13                   [EagleFM, Kosmos, OmulungaRadio]             3  \n",
       "3         [RadioLaVoixdesBale, RadioPulsar, SavaneFM]             3  \n",
       "6                           [NeatFM, PeaceFM, OmanFM]             3  \n",
       "16                    [FlashFM, KTRadio, RadioRwanda]             3  \n",
       "15           [RADIOKATIOPA, RadioMaria, GomaWebradio]             3  \n",
       "22                                    [HotFM, ZNBCR1]             2  \n",
       "18                     [CapitalRadio, RadioDemocracy]             2  \n",
       "0                       [AlgerCh3, RadioAlgeriaKoran]             2  \n",
       "1                                      [CappFM, ORTB]             2  \n",
       "23                          [NehandaRadio, DiamondFM]             2  \n",
       "11                        [ZodiacBroadcastingStation]             1  \n",
       "10                                 [RadioRNAAntalaha]             1  \n",
       "17                                [RadioFutursMedias]             1  \n",
       "9                         [LiberiaBroadcastingSystem]             1  \n",
       "5                                        [TopCongoFM]             1  \n",
       "20                                    [RadioDenigban]             1  \n",
       "4                                     [EquinoxeRadio]             1  \n",
       "2                                            [DumaFM]             1  "
      ]
     },
     "execution_count": 11,
     "metadata": {},
     "output_type": "execute_result"
    }
   ],
   "source": [
    "unique_station_per_country.sort_values(by=\"num_stations\", ascending=False)"
   ]
  },
  {
   "cell_type": "code",
   "execution_count": 12,
   "id": "fa160b36",
   "metadata": {},
   "outputs": [],
   "source": [
    "# How many clips are there (overall) per country?\n",
    "num_rec_per_country = df.groupby(['country'])['location'].count().reset_index()\n",
    "num_rec_per_country.columns=[\"country\", \"count\"]"
   ]
  },
  {
   "cell_type": "code",
   "execution_count": 13,
   "id": "243d3891",
   "metadata": {},
   "outputs": [
    {
     "data": {
      "text/html": [
       "<div>\n",
       "<style scoped>\n",
       "    .dataframe tbody tr th:only-of-type {\n",
       "        vertical-align: middle;\n",
       "    }\n",
       "\n",
       "    .dataframe tbody tr th {\n",
       "        vertical-align: top;\n",
       "    }\n",
       "\n",
       "    .dataframe thead th {\n",
       "        text-align: right;\n",
       "    }\n",
       "</style>\n",
       "<table border=\"1\" class=\"dataframe\">\n",
       "  <thead>\n",
       "    <tr style=\"text-align: right;\">\n",
       "      <th></th>\n",
       "      <th>country</th>\n",
       "      <th>count</th>\n",
       "    </tr>\n",
       "  </thead>\n",
       "  <tbody>\n",
       "    <tr>\n",
       "      <th>14</th>\n",
       "      <td>nigeria</td>\n",
       "      <td>212285</td>\n",
       "    </tr>\n",
       "    <tr>\n",
       "      <th>19</th>\n",
       "      <td>south_africa</td>\n",
       "      <td>180775</td>\n",
       "    </tr>\n",
       "    <tr>\n",
       "      <th>16</th>\n",
       "      <td>rwanda</td>\n",
       "      <td>160159</td>\n",
       "    </tr>\n",
       "    <tr>\n",
       "      <th>6</th>\n",
       "      <td>ghana</td>\n",
       "      <td>148699</td>\n",
       "    </tr>\n",
       "    <tr>\n",
       "      <th>8</th>\n",
       "      <td>kenya</td>\n",
       "      <td>131611</td>\n",
       "    </tr>\n",
       "    <tr>\n",
       "      <th>13</th>\n",
       "      <td>namibia</td>\n",
       "      <td>119804</td>\n",
       "    </tr>\n",
       "    <tr>\n",
       "      <th>7</th>\n",
       "      <td>guinea</td>\n",
       "      <td>112821</td>\n",
       "    </tr>\n",
       "    <tr>\n",
       "      <th>0</th>\n",
       "      <td>algeria</td>\n",
       "      <td>98973</td>\n",
       "    </tr>\n",
       "    <tr>\n",
       "      <th>12</th>\n",
       "      <td>mauritius</td>\n",
       "      <td>95316</td>\n",
       "    </tr>\n",
       "    <tr>\n",
       "      <th>1</th>\n",
       "      <td>benin</td>\n",
       "      <td>91246</td>\n",
       "    </tr>\n",
       "    <tr>\n",
       "      <th>3</th>\n",
       "      <td>burkina_faso</td>\n",
       "      <td>89008</td>\n",
       "    </tr>\n",
       "    <tr>\n",
       "      <th>5</th>\n",
       "      <td>democratic_republic_congo</td>\n",
       "      <td>82550</td>\n",
       "    </tr>\n",
       "    <tr>\n",
       "      <th>15</th>\n",
       "      <td>republic_of_the_congo</td>\n",
       "      <td>75901</td>\n",
       "    </tr>\n",
       "    <tr>\n",
       "      <th>21</th>\n",
       "      <td>uganda</td>\n",
       "      <td>71774</td>\n",
       "    </tr>\n",
       "    <tr>\n",
       "      <th>9</th>\n",
       "      <td>liberia</td>\n",
       "      <td>62534</td>\n",
       "    </tr>\n",
       "    <tr>\n",
       "      <th>22</th>\n",
       "      <td>zambia</td>\n",
       "      <td>60197</td>\n",
       "    </tr>\n",
       "    <tr>\n",
       "      <th>17</th>\n",
       "      <td>senegal</td>\n",
       "      <td>48089</td>\n",
       "    </tr>\n",
       "    <tr>\n",
       "      <th>18</th>\n",
       "      <td>sierra_leone</td>\n",
       "      <td>44393</td>\n",
       "    </tr>\n",
       "    <tr>\n",
       "      <th>2</th>\n",
       "      <td>botswana</td>\n",
       "      <td>41122</td>\n",
       "    </tr>\n",
       "    <tr>\n",
       "      <th>23</th>\n",
       "      <td>zimbabwe</td>\n",
       "      <td>40359</td>\n",
       "    </tr>\n",
       "    <tr>\n",
       "      <th>11</th>\n",
       "      <td>malawi</td>\n",
       "      <td>36818</td>\n",
       "    </tr>\n",
       "    <tr>\n",
       "      <th>10</th>\n",
       "      <td>madagascar</td>\n",
       "      <td>22708</td>\n",
       "    </tr>\n",
       "    <tr>\n",
       "      <th>20</th>\n",
       "      <td>togo</td>\n",
       "      <td>14477</td>\n",
       "    </tr>\n",
       "    <tr>\n",
       "      <th>4</th>\n",
       "      <td>cameroon</td>\n",
       "      <td>1836</td>\n",
       "    </tr>\n",
       "  </tbody>\n",
       "</table>\n",
       "</div>"
      ],
      "text/plain": [
       "                      country   count\n",
       "14                    nigeria  212285\n",
       "19               south_africa  180775\n",
       "16                     rwanda  160159\n",
       "6                       ghana  148699\n",
       "8                       kenya  131611\n",
       "13                    namibia  119804\n",
       "7                      guinea  112821\n",
       "0                     algeria   98973\n",
       "12                  mauritius   95316\n",
       "1                       benin   91246\n",
       "3                burkina_faso   89008\n",
       "5   democratic_republic_congo   82550\n",
       "15      republic_of_the_congo   75901\n",
       "21                     uganda   71774\n",
       "9                     liberia   62534\n",
       "22                     zambia   60197\n",
       "17                    senegal   48089\n",
       "18               sierra_leone   44393\n",
       "2                    botswana   41122\n",
       "23                   zimbabwe   40359\n",
       "11                     malawi   36818\n",
       "10                 madagascar   22708\n",
       "20                       togo   14477\n",
       "4                    cameroon    1836"
      ]
     },
     "execution_count": 13,
     "metadata": {},
     "output_type": "execute_result"
    }
   ],
   "source": [
    "# The top 6 countries we were getting recrodings for! So that is what we will benchmark\n",
    "num_rec_per_country.sort_values(by='count', ascending=False)"
   ]
  },
  {
   "cell_type": "markdown",
   "id": "c7923d3a",
   "metadata": {},
   "source": [
    "## Figure 1 Left: Histogram of 5-minute clips by day"
   ]
  },
  {
   "cell_type": "code",
   "execution_count": 14,
   "id": "f3448a6a",
   "metadata": {},
   "outputs": [],
   "source": [
    "# Histogram of 5-minute segments in an average day\n",
    "# THIS MIGHT BE SKEWED as some stations removed by Tomaz\n",
    "num_clips_per_day = df.groupby('day')['clip'].count().reset_index()\n",
    "\n",
    "# Group by number of stations per day\n",
    "num_stations_per_day = df.groupby('day')['name'].unique().reset_index()\n",
    "num_stations_per_day[\"num_stations\"] = num_stations_per_day[\"name\"].apply(lambda x: len(x))\n",
    "\n",
    "# Dividing number of clips per day by number of stations there were for that day\n",
    "num_clips_per_day[\"num_per_station\"] = num_clips_per_day[\"clip\"] / num_stations_per_day[\"num_stations\"]"
   ]
  },
  {
   "cell_type": "code",
   "execution_count": 15,
   "id": "0ce459a0",
   "metadata": {},
   "outputs": [
    {
     "data": {
      "text/plain": [
       "288.0"
      ]
     },
     "execution_count": 15,
     "metadata": {},
     "output_type": "execute_result"
    }
   ],
   "source": [
    "num_clips_per_day[\"num_per_station\"].max()"
   ]
  },
  {
   "cell_type": "code",
   "execution_count": 16,
   "id": "49a32bf1",
   "metadata": {},
   "outputs": [
    {
     "data": {
      "text/plain": [
       "0        1.000000\n",
       "1        8.666667\n",
       "2        1.500000\n",
       "3        1.000000\n",
       "4        3.000000\n",
       "          ...    \n",
       "418    116.300000\n",
       "419    111.387097\n",
       "420    115.754098\n",
       "421    118.300000\n",
       "422    103.854839\n",
       "Name: num_per_station, Length: 423, dtype: float64"
      ]
     },
     "execution_count": 16,
     "metadata": {},
     "output_type": "execute_result"
    }
   ],
   "source": [
    "num_clips_per_day[\"num_per_station\"]"
   ]
  },
  {
   "cell_type": "code",
   "execution_count": 26,
   "id": "f7410a95",
   "metadata": {
    "scrolled": false
   },
   "outputs": [
    {
     "data": {
      "image/png": "[encoded data removed]",
      "text/plain": [
       "<Figure size 576x360 with 1 Axes>"
      ]
     },
     "metadata": {
      "needs_background": "light"
     },
     "output_type": "display_data"
    }
   ],
   "source": [
    "plt.figure(figsize=(8,5))\n",
    "plt.hist(num_clips_per_day[\"num_per_station\"].values, 50, alpha=0.6, edgecolor='black')\n",
    "plt.xticks(size=14)\n",
    "plt.yticks(size=14)\n",
    "plt.xlabel(\"Number of 5-Minute Clips Recorded in a Day\", size=18)\n",
    "# plt.show()\n",
    "\n",
    "plt.savefig('img/num_clips_per_day.pdf', bbox_inches='tight') \n"
   ]
  },
  {
   "cell_type": "markdown",
   "id": "7635a1bf",
   "metadata": {},
   "source": [
    "## Figure 1 Right: Number of recordings, aggregated by hour"
   ]
  },
  {
   "cell_type": "code",
   "execution_count": 20,
   "id": "9ebbc06e",
   "metadata": {},
   "outputs": [],
   "source": [
    "# How many clips per hour? (Aggregating all stations and countries in Africa)\n",
    "num_rec_by_hour = df.groupby(['local_hour'])['location'].count().reset_index()\n",
    "num_rec_by_hour.columns=[\"local_hour\", \"count\"]"
   ]
  },
  {
   "cell_type": "code",
   "execution_count": 21,
   "id": "f3b75f1d",
   "metadata": {},
   "outputs": [],
   "source": [
    "num_rec_by_hour[\"count_norm\"] = num_rec_by_hour[\"count\"] / num_rec_by_hour[\"count\"].sum() * 100"
   ]
  },
  {
   "cell_type": "code",
   "execution_count": 29,
   "id": "3e9bde8d",
   "metadata": {
    "scrolled": true
   },
   "outputs": [
    {
     "data": {
      "image/png": "[encoded data removed]",
      "text/plain": [
       "<Figure size 504x360 with 1 Axes>"
      ]
     },
     "metadata": {
      "needs_background": "light"
     },
     "output_type": "display_data"
    }
   ],
   "source": [
    "# Figure 1 Right\n",
    "plt.figure(figsize=(8,5))\n",
    "plt.bar(x=num_rec_by_hour['local_hour'], height=num_rec_by_hour['count_norm'], alpha=0.6)\n",
    "plt.ylabel('Counts by hour (\\%)', size=18)\n",
    "plt.yticks(size=14)\n",
    "plt.xlabel('Hour (local time)', size=18)\n",
    "plt.xticks(range(0,24), size=14)\n",
    "plt.xlim(-1,24)\n",
    "# plt.show()\n",
    "\n",
    "plt.savefig('img/num_clips_per_hour.pdf', bbox_inches='tight') \n"
   ]
  },
  {
   "cell_type": "markdown",
   "id": "c332e655",
   "metadata": {},
   "source": [
    "(figure 1 right) gives more context to figure 1 left"
   ]
  },
  {
   "cell_type": "markdown",
   "id": "706936ff",
   "metadata": {},
   "source": [
    "24*12 = 288\n",
    "Probability of how many clips you will find in a given day\n"
   ]
  },
  {
   "cell_type": "code",
   "execution_count": 118,
   "id": "3a247e50",
   "metadata": {
    "scrolled": false
   },
   "outputs": [
    {
     "data": {
      "text/plain": [
       "Text(0.5, 1.0, 'How many clips recorded (agg across all countries) per day?')"
      ]
     },
     "execution_count": 118,
     "metadata": {},
     "output_type": "execute_result"
    },
    {
     "data": {
      "image/png": "[encoded data removed]",
      "text/plain": [
       "<Figure size 576x360 with 1 Axes>"
      ]
     },
     "metadata": {
      "needs_background": "light"
     },
     "output_type": "display_data"
    }
   ],
   "source": [
    "plt.figure(figsize=(8,5))\n",
    "\n",
    "sns.lineplot(data=num_clips_per_day, x='day', y='clip')\n",
    "plt.title('How many clips recorded (agg across all countries) per day?')"
   ]
  },
  {
   "cell_type": "code",
   "execution_count": 228,
   "id": "5c74cd51",
   "metadata": {
    "scrolled": false
   },
   "outputs": [
    {
     "data": {
      "text/html": [
       "<div>\n",
       "<style scoped>\n",
       "    .dataframe tbody tr th:only-of-type {\n",
       "        vertical-align: middle;\n",
       "    }\n",
       "\n",
       "    .dataframe tbody tr th {\n",
       "        vertical-align: top;\n",
       "    }\n",
       "\n",
       "    .dataframe thead th {\n",
       "        text-align: right;\n",
       "    }\n",
       "</style>\n",
       "<table border=\"1\" class=\"dataframe\">\n",
       "  <thead>\n",
       "    <tr style=\"text-align: right;\">\n",
       "      <th></th>\n",
       "      <th>day</th>\n",
       "      <th>name</th>\n",
       "      <th>clip</th>\n",
       "    </tr>\n",
       "  </thead>\n",
       "  <tbody>\n",
       "    <tr>\n",
       "      <th>0</th>\n",
       "      <td>2020-04-20</td>\n",
       "      <td>96.3</td>\n",
       "      <td>1</td>\n",
       "    </tr>\n",
       "    <tr>\n",
       "      <th>1</th>\n",
       "      <td>2020-04-28</td>\n",
       "      <td>94.4</td>\n",
       "      <td>2</td>\n",
       "    </tr>\n",
       "    <tr>\n",
       "      <th>2</th>\n",
       "      <td>2020-04-28</td>\n",
       "      <td>95.5</td>\n",
       "      <td>11</td>\n",
       "    </tr>\n",
       "    <tr>\n",
       "      <th>3</th>\n",
       "      <td>2020-04-28</td>\n",
       "      <td>96.3</td>\n",
       "      <td>13</td>\n",
       "    </tr>\n",
       "    <tr>\n",
       "      <th>4</th>\n",
       "      <td>2020-04-30</td>\n",
       "      <td>95.5</td>\n",
       "      <td>2</td>\n",
       "    </tr>\n",
       "    <tr>\n",
       "      <th>...</th>\n",
       "      <td>...</td>\n",
       "      <td>...</td>\n",
       "      <td>...</td>\n",
       "    </tr>\n",
       "    <tr>\n",
       "      <th>19838</th>\n",
       "      <td>2021-11-05</td>\n",
       "      <td>WazobiaFM</td>\n",
       "      <td>171</td>\n",
       "    </tr>\n",
       "    <tr>\n",
       "      <th>19839</th>\n",
       "      <td>2021-11-05</td>\n",
       "      <td>WestFM</td>\n",
       "      <td>155</td>\n",
       "    </tr>\n",
       "    <tr>\n",
       "      <th>19840</th>\n",
       "      <td>2021-11-05</td>\n",
       "      <td>Yanasalam</td>\n",
       "      <td>39</td>\n",
       "    </tr>\n",
       "    <tr>\n",
       "      <th>19841</th>\n",
       "      <td>2021-11-05</td>\n",
       "      <td>ZNBCR1</td>\n",
       "      <td>145</td>\n",
       "    </tr>\n",
       "    <tr>\n",
       "      <th>19842</th>\n",
       "      <td>2021-11-05</td>\n",
       "      <td>ZodiacBroadcastingStation</td>\n",
       "      <td>162</td>\n",
       "    </tr>\n",
       "  </tbody>\n",
       "</table>\n",
       "<p>19843 rows × 3 columns</p>\n",
       "</div>"
      ],
      "text/plain": [
       "             day                       name  clip\n",
       "0     2020-04-20                       96.3     1\n",
       "1     2020-04-28                       94.4     2\n",
       "2     2020-04-28                       95.5    11\n",
       "3     2020-04-28                       96.3    13\n",
       "4     2020-04-30                       95.5     2\n",
       "...          ...                        ...   ...\n",
       "19838 2021-11-05                  WazobiaFM   171\n",
       "19839 2021-11-05                     WestFM   155\n",
       "19840 2021-11-05                  Yanasalam    39\n",
       "19841 2021-11-05                     ZNBCR1   145\n",
       "19842 2021-11-05  ZodiacBroadcastingStation   162\n",
       "\n",
       "[19843 rows x 3 columns]"
      ]
     },
     "execution_count": 228,
     "metadata": {},
     "output_type": "execute_result"
    }
   ],
   "source": [
    "df.groupby(['day', 'name'])['clip'].count().reset_index()"
   ]
  }
 ],
 "metadata": {
  "kernelspec": {
   "display_name": "Python 3",
   "language": "python",
   "name": "python3"
  },
  "language_info": {
   "codemirror_mode": {
    "name": "ipython",
    "version": 3
   },
   "file_extension": ".py",
   "mimetype": "text/x-python",
   "name": "python",
   "nbconvert_exporter": "python",
   "pygments_lexer": "ipython3",
   "version": "3.9.2"
  }
 },
 "nbformat": 4,
 "nbformat_minor": 5
}
